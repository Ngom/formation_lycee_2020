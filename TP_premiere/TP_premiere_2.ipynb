{
 "cells": [
  {
   "cell_type": "markdown",
   "metadata": {},
   "source": [
    "# TP premiere n°2 "
   ]
  },
  {
   "cell_type": "code",
   "execution_count": 74,
   "metadata": {},
   "outputs": [],
   "source": [
    "def produit(x,y) :\n",
    "    x_MA, y_MA, x_MB, y_MB = (-2-x), (0-y), (2-x), (0-y)\n",
    "    return x_MA*x_MB + y_MA*y_MB"
   ]
  },
  {
   "cell_type": "code",
   "execution_count": 75,
   "metadata": {},
   "outputs": [],
   "source": [
    "#produit(0,0)"
   ]
  },
  {
   "cell_type": "code",
   "execution_count": 76,
   "metadata": {},
   "outputs": [],
   "source": [
    "import matplotlib.pyplot as pl\n",
    "%matplotlib  inline\n",
    "def impact1(x,y):\n",
    "    pl.axis([-5,5,-5,5])\n",
    "    pl.grid()\n",
    "    if produit(x,y) <= 0 :\n",
    "        pl.plot(x,y,'red',marker=\".\")\n",
    "    elif produit(x,y) <= 12 :\n",
    "        pl.plot(x,y,'blue',marker=\".\")\n",
    "    else :\n",
    "        pl.plot(x,y,'green',marker=\".\")\n",
    "    pl.show()"
   ]
  },
  {
   "cell_type": "code",
   "execution_count": 77,
   "metadata": {},
   "outputs": [
    {
     "data": {
      "image/png": "[encoded data removed]",
      "text/plain": [
       "<Figure size 432x288 with 1 Axes>"
      ]
     },
     "metadata": {},
     "output_type": "display_data"
    }
   ],
   "source": [
    "impact1(0,0)"
   ]
  },
  {
   "cell_type": "code",
   "execution_count": 78,
   "metadata": {},
   "outputs": [
    {
     "data": {
      "image/png": "[encoded data removed]",
      "text/plain": [
       "<Figure size 432x288 with 1 Axes>"
      ]
     },
     "metadata": {},
     "output_type": "display_data"
    }
   ],
   "source": [
    "impact1(3,2)"
   ]
  },
  {
   "cell_type": "code",
   "execution_count": 79,
   "metadata": {},
   "outputs": [
    {
     "data": {
      "image/png": "[encoded data removed]",
      "text/plain": [
       "<Figure size 432x288 with 1 Axes>"
      ]
     },
     "metadata": {},
     "output_type": "display_data"
    }
   ],
   "source": [
    "impact1(-4,4)"
   ]
  },
  {
   "cell_type": "code",
   "execution_count": 80,
   "metadata": {},
   "outputs": [
    {
     "name": "stdout",
     "output_type": "stream",
     "text": [
      "\n",
      "Rouge = 1265    Blue = 3723    Verte = 5012\n",
      "\n"
     ]
    }
   ],
   "source": [
    "import random\n",
    "n = 10000\n",
    "r, b, v = 0, 0, 0\n",
    "for i in range(n) :\n",
    "    x_M,y_M = random.uniform(-5,5), random.uniform(-5,5)\n",
    "    # impact1(x_M,y_M)\n",
    "    if produit(x_M,y_M) <= 0 :\n",
    "        r = r + 1\n",
    "    elif produit(x_M,y_M) <= 12 :\n",
    "        b = b + 1\n",
    "    else :\n",
    "        v = v + 1\n",
    "\n",
    "print(\"\")\n",
    "print(\"Rouge =\", r, \"   Blue =\", b, \"   Verte =\", v)\n",
    "print(\"\")"
   ]
  },
  {
   "cell_type": "code",
   "execution_count": null,
   "metadata": {},
   "outputs": [],
   "source": []
  }
 ],
 "metadata": {
  "kernelspec": {
   "display_name": "Python 3",
   "language": "python",
   "name": "python3"
  },
  "language_info": {
   "codemirror_mode": {
    "name": "ipython",
    "version": 3
   },
   "file_extension": ".py",
   "mimetype": "text/x-python",
   "name": "python",
   "nbconvert_exporter": "python",
   "pygments_lexer": "ipython3",
   "version": "3.6.9"
  }
 },
 "nbformat": 4,
 "nbformat_minor": 2
}
