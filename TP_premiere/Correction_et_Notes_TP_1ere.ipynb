{
 "cells": [
  {
   "cell_type": "markdown",
   "metadata": {},
   "source": [
    "# Correction du TP du second degré."
   ]
  },
  {
   "cell_type": "markdown",
   "metadata": {},
   "source": [
    "AHMAD Farhan : Note de l'élève = 9/10."
   ]
  },
  {
   "cell_type": "code",
   "execution_count": 11,
   "metadata": {},
   "outputs": [
    {
     "name": "stdout",
     "output_type": "stream",
     "text": [
      "Ce programme peut calculer les racines d'un polynome du second degre\n",
      "Tel que f(x) = ax²+bx+c = 0\n",
      "Entrez la valeur de a1\n",
      "Entrez la valeur de b1\n",
      "Entrez la valeur de c1\n",
      "-3\n",
      "Ce polynome n'a pas de solutions reelles\n",
      "Fin du Calcul !\n"
     ]
    }
   ],
   "source": [
    "from math import*\n",
    "\n",
    "print(\"Ce programme peut calculer les racines d'un polynome du second degre\")\n",
    "print(\"Tel que f(x) = ax²+bx+c = 0\")\n",
    "a=int(input(\"Entrez la valeur de a\"))\n",
    "b=int(input(\"Entrez la valeur de b\"))\n",
    "c=int(input(\"Entrez la valeur de c\"))\n",
    "delta=b*b-4*a*c\n",
    "print(delta) #valeur de Delta\n",
    "if delta <0:\n",
    "    print(\"Ce polynome n'a pas de solutions reelles\")\n",
    "if delta ==0:\n",
    "    print(\"Ce polynome a une seule solution reelle\")\n",
    "    x=-b/(2*a)\n",
    "    print(x) #valeur de la solution\n",
    "if delta >0:\n",
    "    print(\"Ce polynome a deux solutions reelles\")\n",
    "    h=-b-sqrt(delta)\n",
    "    i=-b+sqrt(delta)\n",
    "    n=2*a\n",
    "    x1=h/n\n",
    "    x2=i/n\n",
    "    print(x1) #valeur de la premiere solution\n",
    "    print(x2) #valeur de la seconde solution\n",
    "print(\"Fin du Calcul !\")\n",
    "\n",
    "# Commentaire de correction : Le programme ne tient pas de la valeur a != 0."
   ]
  },
  {
   "cell_type": "markdown",
   "metadata": {},
   "source": [
    "ALITOU Bilel : Note de l'élève = 9/10."
   ]
  },
  {
   "cell_type": "code",
   "execution_count": 10,
   "metadata": {},
   "outputs": [
    {
     "name": "stdout",
     "output_type": "stream",
     "text": [
      "donner la valeur de a :1\n",
      "donner la valeur de b :1\n",
      "donner la valeur de c :1\n",
      "-3.0\n",
      "pas de solution dans l'ensemble R\n"
     ]
    }
   ],
   "source": [
    "from math import *\n",
    "a=float(input(\"donner la valeur de a :\"))\n",
    "b=float(input(\"donner la valeur de b :\"))\n",
    "c=float(input(\"donner la valeur de c :\"))\n",
    "if a==0:\n",
    "    if b==0:\n",
    "        if c==0:\n",
    "            print(\"tous reel est une solution\")\n",
    "        else:\n",
    "            print(\"pas de solution\")\n",
    "    else:\n",
    "        print(\"la solution est :\",-b/a)\n",
    "else:\n",
    "    D=pow(b,2)-4*a*c\n",
    "    print(D)\n",
    "    if D<0:\n",
    "        print(\"pas de solution dans l'ensemble R\")\n",
    "    if D==0:\n",
    "        print(\"la solution est :\",-b/2*a)\n",
    "    if D>0:\n",
    "        print(\"il y a deux solutions :\",(-b-sqrt(D))/2*a,\"et aussi \",(-b+sqrt(D))/2*a)\n",
    "        \n",
    "# Commentaire de correction : Le programme ne tient pas de la valeur a != 0."
   ]
  },
  {
   "cell_type": "markdown",
   "metadata": {},
   "source": [
    "ALITOU Ines : Note de l'élève = 9/10."
   ]
  },
  {
   "cell_type": "code",
   "execution_count": 23,
   "metadata": {},
   "outputs": [
    {
     "name": "stdout",
     "output_type": "stream",
     "text": [
      "Quelle est la valeur de a ?1\n",
      "Quelle est la valeur de b?0\n",
      "Quelle est la valeur de c-9\n",
      "Deux solution réelle -3.0 et 3.0\n"
     ]
    }
   ],
   "source": [
    "from math import *\n",
    "\n",
    "\n",
    "def sol_degre_2(a, b, c):\n",
    "    delta = b**2-4*a*c\n",
    "    if delta < 0:\n",
    "        msg = (\"Pas de solution réelle!\")\n",
    "    elif delta == 0:\n",
    "        msg = (f\"une seul solution!{round(-b/(2*a),2)}\")\n",
    "    else:\n",
    "        x1 = (-b - sqrt(delta))/2*a\n",
    "        x2 = (-b + sqrt(delta))/2*a\n",
    "        msg = (f\"Deux solution réelle {round(x1,2)} et {round(x2,2)}\")\n",
    "    return msg\n",
    "\n",
    "a = float(input(\"Quelle est la valeur de a ?\"))\n",
    "b = float(input(\"Quelle est la valeur de b?\"))\n",
    "c = float(input(\"Quelle est la valeur de c\"))\n",
    "print(sol_degre_2(a, b, c))\n",
    "\n",
    "  return()\n",
    "# Commentaire de correction : Très bien d'uliser une fonction mais le programme buge si on introduit a = 0."
   ]
  },
  {
   "cell_type": "markdown",
   "metadata": {},
   "source": [
    "AVCI Zeynel : Note de l'élève = 8/10."
   ]
  },
  {
   "cell_type": "code",
   "execution_count": 28,
   "metadata": {},
   "outputs": [
    {
     "name": "stdout",
     "output_type": "stream",
     "text": [
      "Donnez a =1\n",
      "Donnez b =0\n",
      "Donnez c =-9\n",
      "il y'a deux solutions réelles distinctes\n",
      "x1= -3.0\n",
      "x2= 3.0\n"
     ]
    }
   ],
   "source": [
    "def sol_sec_degre(a,b,c):\n",
    "  return()\n",
    "\n",
    "\n",
    "a= float(input(\"Donnez a =\"))\n",
    "b= float(input(\"Donnez b =\"))\n",
    "c= float(input(\"Donnez c =\"))\n",
    "delta =(b**2)-(4*a*c)\n",
    "if delta >0 :\n",
    "  print(\"il y'a deux solutions réelles distinctes\")\n",
    "  x1=(-b-delta**0.5)/(2*a)\n",
    "  x2=(-b+delta**0.5)/(2*a)\n",
    "  print(\"x1=\",x1)\n",
    "  print(\"x2=\",x2)\n",
    "elif delta ==0:\n",
    "  print(\"il y'a une seule solution réelle\")\n",
    "  x0 = (-b)/2*a\n",
    "  print(\"x0=\",x0)\n",
    "else:\n",
    "  print(\"il n'y a pas de solution réelle\")\n",
    "\n",
    "# Commentaire de correction : Le programme ne tient pas de la valeur a = 0 et les deux première lignes\n",
    "# du code sont inutiles car il n'y a rien dans fonction."
   ]
  },
  {
   "cell_type": "markdown",
   "metadata": {},
   "source": [
    "BOUCHAIN Vincent : Note de l'élèves = 9/10."
   ]
  },
  {
   "cell_type": "code",
   "execution_count": 33,
   "metadata": {},
   "outputs": [
    {
     "name": "stdout",
     "output_type": "stream",
     "text": [
      "Choisissez la valeur de a :1\n",
      "Choisissez la valeur de b :0\n",
      "Choisissez la valeur de c :-36\n",
      "L'équation est : 1x² + 0x + -36.\n",
      "Delta est de 144.\n",
      "Il y a deux solutions :\n",
      "x1 = -6.0\n",
      "x2 = 6.0\n"
     ]
    }
   ],
   "source": [
    "from math import *\n",
    "\n",
    "\n",
    "a = int(input(\"Choisissez la valeur de a :\"))\n",
    "b = int(input(\"Choisissez la valeur de b :\"))\n",
    "c = int(input(\"Choisissez la valeur de c :\"))\n",
    "\n",
    "\n",
    "def eq2(a, b, c):\n",
    "    print(\"L'équation est : \", a, \"x² + \", b, \"x + \", c, \".\", sep=\"\")\n",
    "    d = (b ** 2) - (4 * a * c)\n",
    "    print(\"Delta est de \", d, \".\", sep=\"\")\n",
    "    if d < 0:\n",
    "        print(\"Il n y a pas de solution.\")\n",
    "    elif d == 0:\n",
    "        print(\"Il y a une solution :\")\n",
    "        n = (- b) / (2 * a)\n",
    "        print (\"x =\",n)\n",
    "    else:\n",
    "        print(\"Il y a deux solutions :\")\n",
    "        n = (- b - sqrt(d)) / (2 * a)\n",
    "        z = (- b + sqrt(d)) / (2 * a)\n",
    "        print (\"x1 =\",n)\n",
    "        print (\"x2 =\",z)\n",
    "eq2(a, b, c)\n",
    "\n",
    "# Commentaire de correction : Très bien d'uliser une fonction mais le programme buge si on introduit a = 0."
   ]
  },
  {
   "cell_type": "markdown",
   "metadata": {},
   "source": [
    "BOUSSOUL Imael : Note de l'élève = 9/10."
   ]
  },
  {
   "cell_type": "code",
   "execution_count": 38,
   "metadata": {},
   "outputs": [
    {
     "name": "stdout",
     "output_type": "stream",
     "text": [
      "donner la valeur de a0\n",
      "donner la valeur de b0\n",
      "donner la valeur de c5\n",
      "Admet 2 solutions\n",
      "-0.0 0.0\n"
     ]
    }
   ],
   "source": [
    "from math import*\n",
    "\n",
    "\n",
    "\n",
    "a=float(input('donner la valeur de a'))\n",
    "\n",
    "b=float(input('donner la valeur de b'))\n",
    "\n",
    "c=float(input('donner la valeur de c'))\n",
    "\n",
    "if a==0:\n",
    "\n",
    "    if b==0:\n",
    "\n",
    "        if c==0:\n",
    "\n",
    "            print('Solution impossible dans IR')\n",
    "else:\n",
    "\n",
    "    delta = (b**2)-4*a*c\n",
    "\n",
    "if delta <0:\n",
    "\n",
    "    print('Nadmet pas de solution')\n",
    "\n",
    "if delta >0:\n",
    "\n",
    "    print('Admet 2 solutions')\n",
    "\n",
    "    x1 = (-b-sqrt(delta))/2*a\n",
    "\n",
    "    x2 = (-b+sqrt(delta))/2*a\n",
    "\n",
    "    print(x1,x2)\n",
    "\n",
    "if delta==0:\n",
    "\n",
    "    print('il y a une seul solution')\n",
    "\n",
    "    #-b/2*a\n",
    "\n",
    "    print(-b/2*a)\n",
    "\n",
    "# Commentaire de correction : le programme buge si on introduit a = 0."
   ]
  },
  {
   "cell_type": "markdown",
   "metadata": {},
   "source": [
    "CEYLAN Yoyan : Note de l'élève = 9.5/10"
   ]
  },
  {
   "cell_type": "code",
   "execution_count": 44,
   "metadata": {},
   "outputs": [
    {
     "name": "stdout",
     "output_type": "stream",
     "text": [
      "donner a :0\n",
      "donner b :0\n",
      "donner c :6\n",
      "pas de solution\n"
     ]
    }
   ],
   "source": [
    "from math import *\n",
    "a=float(input(\"donner a :\"))\n",
    "b=float(input(\"donner b :\"))\n",
    "c=float(input(\"donner c :\"))\n",
    "if a==0:\n",
    "     if b==0:\n",
    "           if c==0:\n",
    "                print(\"tout réel est une solution\")\n",
    "           else:\n",
    "                 print(\"pas de solution\")\n",
    "     else:\n",
    "            print(\"la solution est :\",-c/b)\n",
    "else:\n",
    "      d=pow(b,2)-4*a*c\n",
    "      print(\"d=\",d)\n",
    "      if d<0:\n",
    "            print(\"pas de solution dans R\")\n",
    "      if d==0:\n",
    "            print(\"la solution est :\",-b/2*a)\n",
    "      if d>0:\n",
    "            print(\"deux solution :\",(-b-sqrt(d))/2*a,\" et \",(-b+sqrt(d))/2*a)\n",
    "            \n",
    "# Commentaire de correction : Ton code tient bien du cas a = 0 mais ne précise qu'on se ramène au \n",
    "# premier degré."
   ]
  },
  {
   "cell_type": "markdown",
   "metadata": {},
   "source": [
    "CANAI Othmane : Note de l'élève = 9/10."
   ]
  },
  {
   "cell_type": "code",
   "execution_count": 49,
   "metadata": {},
   "outputs": [
    {
     "name": "stdout",
     "output_type": "stream",
     "text": [
      "Donner la valeur de a=0\n",
      "Donner la valeur de b=6\n",
      "Donner la valeur de c=3\n",
      "deux solutions réelles possibles\n",
      "-0.0 -0.0\n"
     ]
    }
   ],
   "source": [
    "from math import* #importer les fonctions mathématiques à utiliser\n",
    "#ax^2+bx+c\n",
    "\n",
    "a = float(input(\"Donner la valeur de a=\"))#Valeur de a\n",
    "b = float(input(\"Donner la valeur de b=\"))#Valeur de b\n",
    "c = float(input(\"Donner la valeur de c=\"))#Valeur de c\n",
    "if a == 0:\n",
    "    if b == 0:\n",
    "        if c == 0:\n",
    "            print(\"La solution est impossible dans l'ensemble IR\")\n",
    "else :\n",
    "  Delta = b**2-(4*a*c)\n",
    "  print(\"Delta=\",Delta)\n",
    "if (Delta<0) :\n",
    "  print(\"pas de solutions réelles possibles\")\n",
    "if (Delta==0):\n",
    "  print(\"une seule solutuion possible:\")\n",
    "  X0 = -b/2*a\n",
    "  print(X0)\n",
    "if (Delta>0):\n",
    "  print(\"deux solutions réelles possibles\")\n",
    "  X1 = (-b-sqrt(Delta))/2*a\n",
    "  X2 = (-b+sqrt(Delta))/2*a\n",
    "  print(X1,X2)\n",
    "\n",
    "# Commentaire de correction : le programme ne tient pas compte a = 0."
   ]
  },
  {
   "cell_type": "markdown",
   "metadata": {},
   "source": [
    "CHHEM Nérilyne : Note de l'élève = 6/10."
   ]
  },
  {
   "cell_type": "code",
   "execution_count": 56,
   "metadata": {},
   "outputs": [
    {
     "name": "stdout",
     "output_type": "stream",
     "text": [
      "Donner la valeur de a1\n",
      "Donner la valeur de b0\n",
      "Donner la valeur de c-4\n",
      "delta = 16.0\n",
      "il y a 2 solutions reelles distinctes: 2.0 et -2.0\n"
     ]
    }
   ],
   "source": [
    "\n",
    "from math import *\n",
    "\n",
    "a=float(input(\"Donner la valeur de a\"))\n",
    "b=float(input(\"Donner la valeur de b\"))\n",
    "c=float(input(\"Donner la valeur de c\"))\n",
    "delta=b**2-4*a*c\n",
    "print(\"delta =\",delta)\n",
    "if delta==0:\n",
    "    print(\"il y a une solution reelle distincte:\",-b/2*a)\n",
    "# allignement des if's !\n",
    "if delta < 0:\n",
    "        print(\"il n'y a pas de solution reelle\")\n",
    "if delta > 0:\n",
    "            print(\"il y a 2 solutions reelles distinctes:\",(-b+sqrt(delta))/2*a,\"et\",(-b-sqrt(delta))/2*a)\n",
    "            \n",
    "# Commentaire de coorection : Le code ne donne pas d'informations si Delta < 0 et Delta > 0.\n",
    "# Il ne tient pas compte également de la valeur a = 0.\n",
    "# Le premier problème se règle en alignant les deux derniers \"if\".\n",
    "# Si tu importes *, tu n'as besoin de \"math.sqrt(...)\"."
   ]
  },
  {
   "cell_type": "markdown",
   "metadata": {},
   "source": [
    "DELGADO Jessica : Note de l'élève = 9/10."
   ]
  },
  {
   "cell_type": "code",
   "execution_count": 63,
   "metadata": {},
   "outputs": [
    {
     "name": "stdout",
     "output_type": "stream",
     "text": [
      "\n",
      "Donner la valeur de a: a=0\n",
      "Donner la valeur de b: b=4\n",
      "Donner la valeur de c: c=2\n",
      "\n",
      "Le polynôme est donnée par: P(x) = 0.0 x^2 + 4.0 x + 2.0\n",
      "\n",
      "Delta= 16.0\n",
      "\n",
      "Alors, l'équation du polynôme admet 2 solutions réelles distinctes:\n",
      "x1 =  -0.0  et x2 =  0.0\n"
     ]
    }
   ],
   "source": [
    "from math import *\n",
    "print(\"\")\n",
    "a = float(input(\"Donner la valeur de a: a=\"))\n",
    "b = float(input(\"Donner la valeur de b: b=\"))\n",
    "c = float(input(\"Donner la valeur de c: c=\"))\n",
    "print(\"\")\n",
    "print(\"Le polynôme est donnée par: P(x) =\", a , \"x^2 +\",b ,\"x +\",c)\n",
    "print(\"\")\n",
    "Delta = b**2 - 4*a*c\n",
    "print(\"Delta=\", Delta)\n",
    "print(\"\")\n",
    "if Delta > 0:\n",
    "    print(\"Alors, l'équation du polynôme admet 2 solutions réelles distinctes:\")\n",
    "    x1 = (-b-sqrt(Delta))/2*a\n",
    "    x2 = (-b+sqrt(Delta))/2*a\n",
    "    print(\"x1 = \",x1,\" et x2 = \",x2)\n",
    "if Delta==0:\n",
    "    print(\"Alors, l'équation du polynôme admet une unique solution réelle:\")\n",
    "    x0=-b/(2*a)\n",
    "    print(\"x0 = \",x0)\n",
    "if Delta<0:\n",
    "    print(\"Alors, l'équation du polynôme n'amet pas de solution réelle.\")\n",
    "\n",
    "# Commentaire de correction : Le code ne tent pas de la valeur a = 0."
   ]
  },
  {
   "cell_type": "markdown",
   "metadata": {},
   "source": [
    "DUFONT Fléna : Note de l'élève = 4/10."
   ]
  },
  {
   "cell_type": "code",
   "execution_count": 71,
   "metadata": {},
   "outputs": [
    {
     "name": "stdout",
     "output_type": "stream",
     "text": [
      "mettre a:1\n",
      "mettre b:0\n",
      "mettre c:-9\n",
      "(-3.0, 3.0)\n"
     ]
    }
   ],
   "source": [
    "from math import *\n",
    "def equation(a,b,c):\n",
    "    delta=(b**2)-(4*a*c)\n",
    "    if delta<0:\n",
    "        msg = \"il n'y a pas de solution\" # mettre le message ici d'abord !\n",
    "        return msg # retourne msg après.\n",
    "    x=(-b-delta**0.5)/(2*a)\n",
    "    y=(-b+delta**0.5)/(2*a)\n",
    "    if delta>0:\n",
    "        return(x,y)\n",
    "    if delta==0:\n",
    "        x = -b/2*a # cette ligne d'abord, sinon\n",
    "        return(x)  # que contient la variable x ici ?\n",
    "\n",
    "a=float(input(\"mettre a:\")) # float(input (....)) pour préciser le type réel de : a\n",
    "b=float(input(\"mettre b:\")) # float(input (....)) pour préciser le type réel de : b\n",
    "c=float(input(\"mettre c:\")) # float(input (....)) pour préciser le type réel de : c\n",
    "\n",
    "# print(equation(-4,6,9)) # A l'appel de la fonction, mettre a, b , c pas de valeurs que les trois variables.\n",
    "\n",
    "print(equation(a,b,c)) # comme ça !\n",
    "\n",
    "# En plus des commentaires sur code, il faut noter qu'il tient pas compte de a = 0."
   ]
  },
  {
   "cell_type": "markdown",
   "metadata": {},
   "source": [
    "ETTALII Aya : Note de l'élève = 8/10."
   ]
  },
  {
   "cell_type": "code",
   "execution_count": 76,
   "metadata": {},
   "outputs": [
    {
     "name": "stdout",
     "output_type": "stream",
     "text": [
      "donner a : 1\n",
      "donner b : 1\n",
      "donner c : -6\n",
      " il y a deux solutions :  -3.0  et  2.0\n"
     ]
    }
   ],
   "source": [
    "from math import * # line oublé dans le code mais obligatoire ! \n",
    "\n",
    "a=float( input (\"donner a : \"))\n",
    "b=float(input(\"donner b : \"))\n",
    "c=float( input (\"donner c : \"))\n",
    "\n",
    "if a==0 :\n",
    "    if b==0:\n",
    "        if c==0:\n",
    "            print(\" Tout rel est une solution \")\n",
    "        else:\n",
    "            print(\"il y a pas de solution \")\n",
    "    else:\n",
    "            print(\" la solution : \" , -b/a )\n",
    "else:\n",
    "    DELTA=pow(b,2)-4*a*c \n",
    "    if DELTA>0: \n",
    "        print (\" il y a deux solutions : \" , (-b-sqrt(DELTA))/(2*a ), \" et \" , (-b+sqrt(DELTA))/(2*a) )\n",
    "    if DELTA==0 :\n",
    "        print(\" il y a une seule solution :\" , -b/2*a)\n",
    "    if DELTA<0 : \n",
    "        print(\" il y a pas de solution \" )\n",
    "# Commentaire de correction : Tenir compte de la valeur a = 0 dans le programme !"
   ]
  },
  {
   "cell_type": "markdown",
   "metadata": {},
   "source": [
    "FERGE Mélina : Note de l'élève = 9.5/10."
   ]
  },
  {
   "cell_type": "code",
   "execution_count": 92,
   "metadata": {},
   "outputs": [
    {
     "name": "stdout",
     "output_type": "stream",
     "text": [
      "donner a=1\n",
      "donner b=1\n",
      "donner c=-6\n",
      "D= 25.0\n",
      "deux solutions: -3.0 et 2.0\n"
     ]
    }
   ],
   "source": [
    "from math import *\n",
    "a=float(input(\"donner a=\"))\n",
    "b=float(input(\"donner b=\"))\n",
    "c=float(input(\"donner c=\"))\n",
    "if a==0:\n",
    "\tif b==0:\n",
    "\t\tif c==0:\n",
    "\t\t\tprint(\"tout reel est une solution\")\n",
    "\t\telse:\n",
    "\t\t\tprint(\"pas de solution\")\n",
    "\telse:\n",
    "\t\tprint(\"la solution est:\",-c/b)\n",
    "else:\n",
    "\tD=pow(b,2)-4*a*c\n",
    "\tprint(\"D=\",D)\n",
    "if D<0:\n",
    "\tprint(\"pas de solution dans R\")\n",
    "if D==0:\n",
    "\tprint(\"la solution est:\",-b/2*a)\n",
    "if D>0:\n",
    "    print(\"deux solutions:\",(-b-sqrt(D))/2*a,\"et\",(-b+sqrt(D))/2*a)\n",
    "    \n",
    "#La valeur de a = 0 prise en compte mais tu ne précises pas que tu passes au premier degré."
   ]
  },
  {
   "cell_type": "markdown",
   "metadata": {},
   "source": [
    "FREIRRA Thomas : Note de l'élève = 9/10"
   ]
  },
  {
   "cell_type": "code",
   "execution_count": 97,
   "metadata": {},
   "outputs": [
    {
     "name": "stdout",
     "output_type": "stream",
     "text": [
      "A=1\n",
      "B=0\n",
      "C=-1\n",
      "delta= 4\n",
      "Deux solutions\n",
      "x1= -1.0\n",
      "x2= 1.0\n",
      "Equation Terminer avec succes!\n"
     ]
    }
   ],
   "source": [
    "from math import*\n",
    "A=eval(input('A='))\n",
    "B=eval(input('B='))\n",
    "C=eval(input('C='))\n",
    "delta=B**2-4*A*C\n",
    "print('delta=',delta)\n",
    "if delta<0:\n",
    "\tprint('Pas de solution')\n",
    "if delta==0:\n",
    "\tprint('une solution')\n",
    "\tx=-B/(2*A)\n",
    "\tprint('x=',x)\n",
    "if delta>0:\n",
    "\tprint('Deux solutions')\n",
    "\tx1=(-B-sqrt(delta))/(2*A)\n",
    "\tx2=(-B+sqrt(delta))/(2*A)\n",
    "\tprint('x1=',x1)\n",
    "\tprint('x2=',x2)\n",
    "print('Equation Terminer avec succes!')\n",
    "\n",
    "# Commentaire de correction : Tenir compte de la valeur a = 0 dans le programme !"
   ]
  },
  {
   "cell_type": "markdown",
   "metadata": {},
   "source": [
    "BENZAOUIA Nassim : Note de l'élève = 3/10."
   ]
  },
  {
   "cell_type": "code",
   "execution_count": 106,
   "metadata": {},
   "outputs": [
    {
     "name": "stdout",
     "output_type": "stream",
     "text": [
      "quel est la valeur de a1\n",
      "quel est la valeur de b0\n",
      "quel est la valeur de c-4\n",
      "les deux réponses sont: 2.0 et -2.0\n"
     ]
    }
   ],
   "source": [
    "from math import * # oublié mais obligatoire !\n",
    "\n",
    "a =float(input(\"quel est la valeur de a\")) # float(input (....)) pour préciser le type réel de : a\n",
    "b =float(input(\"quel est la valeur de b\")) # float(input (....)) pour préciser le type réel de : b\n",
    "c =float(input(\"quel est la valeur de c\")) # float(input (....)) pour préciser le type réel de : c\n",
    "delta =(b*b) - (4*a*c)\n",
    "if delta < 0: \n",
    "\tprint(\"pas de resolution possible dans les reels\")\n",
    "\n",
    "elif delta > 0: \n",
    "    x1 =(-b + sqrt(delta))/2*a # 2*a au de 2a     \n",
    "    x2 =(-b - sqrt(delta))/2*a # 2*a au de 2a     \n",
    "    print(\"les deux réponses sont:\",x1, \"et\",x2)\n",
    "\n",
    "elif delta ==0:     \n",
    "     print(\"une seul réponse:\", -b/2*a) # 2*a au lieu de 2a.\n",
    "else:\n",
    "\tprint(\"erreur de programmation\")\n",
    "\n",
    "# En plus des commentaires sur code, il faut noter qu'il tient pas compte de a = 0."
   ]
  },
  {
   "cell_type": "markdown",
   "metadata": {},
   "source": [
    "MAHIOUS Rayan : Note de l'élève = 9/10."
   ]
  },
  {
   "cell_type": "code",
   "execution_count": 112,
   "metadata": {},
   "outputs": [
    {
     "name": "stdout",
     "output_type": "stream",
     "text": [
      "donner a:1\n",
      "donner b:1\n",
      "donner c:-6\n",
      "Delta= 25.0\n",
      "Il y a deux solutions réelles :\n",
      "x1= -3.0\n",
      "x2= 2.0\n"
     ]
    }
   ],
   "source": [
    "from math import *\n",
    "a=float(input(\"donner a:\"))\n",
    "b=float(input(\"donner b:\"))\n",
    "c=float(input(\"donner c:\"))\n",
    "x1=float()\n",
    "x2=float()\n",
    "D=(b**2)-(4*a*c)\n",
    "print(\"Delta=\",D)\n",
    "if D<0:\n",
    "    print(\"il n'y a pas de solution réelle.\")\n",
    "if D==0:\n",
    "    print(\"Il y a une solution réelle :\")\n",
    "    x0=(-b)/(2*a)\n",
    "    print(\"x0=\",x0)\n",
    "if D>0:\n",
    "    print(\"Il y a deux solutions réelles :\")\n",
    "    x1=(-b-sqrt(D))/(2*a)\n",
    "    x2=(-b+sqrt(D))/(2*a)\n",
    "    print(\"x1=\",x1)\n",
    "    print(\"x2=\",x2)\n",
    "\n",
    "# Commentaire de correction : Tenir compte de la valeur a = 0 dans le programme !"
   ]
  },
  {
   "cell_type": "markdown",
   "metadata": {},
   "source": [
    "MAZOUZ Amine : Note de l'élève = 8/10."
   ]
  },
  {
   "cell_type": "code",
   "execution_count": 119,
   "metadata": {},
   "outputs": [
    {
     "name": "stdout",
     "output_type": "stream",
     "text": [
      "soit ax**2+bx+c une fontion de degré 2 avec\n",
      "a 0\n",
      "b 3\n",
      "c -6\n",
      "delta vaut 9\n",
      "x1 et x2 vallent -0.0 et 0.0\n"
     ]
    }
   ],
   "source": [
    "from math import *\n",
    "print(\"soit ax**2+bx+c une fontion de degré 2 avec\")\n",
    "a=int(input(\"a \"))\n",
    "b=int(input(\"b \"))\n",
    "c=int(input(\"c \"))\n",
    "delta=int(b*b-(4*a*c))\n",
    "print(\"delta vaut\",delta)\n",
    "if delta==0: \n",
    "      x=-b/2*a \n",
    "      print(\"x vaut\",x)\n",
    "elif delta>0:\n",
    "        x1=(-b-(sqrt(delta)))/2*a \n",
    "        x2=(-b+(sqrt(delta)))/2*a \n",
    "        print(\"x1 et x2 vallent\",x1,\"et\",x2)\n",
    "elif delta<0:\n",
    "      print(\"il n'y a pas de solutions\")\n",
    "\n",
    "# Commentaire de correction : Attention à l'allignement des conditions if.\n",
    "# Tenir compte de la valeur a = 0 dans le programme !"
   ]
  },
  {
   "cell_type": "markdown",
   "metadata": {},
   "source": [
    "OUJIAD Camélia : Note de l'élève = 5/10."
   ]
  },
  {
   "cell_type": "code",
   "execution_count": 126,
   "metadata": {},
   "outputs": [
    {
     "name": "stdout",
     "output_type": "stream",
     "text": [
      "\n",
      "inserer la valeur de a: a=0\n",
      "inserer la valeur de b: b=3\n",
      "insererla valeur de c: c=-6\n",
      "\n",
      "ce polynôme est exprimée par: P(x) = 0.0 x^2 + 3.0 x + -6.0 =0\n",
      "\n",
      "Delta= 9.0\n",
      "\n",
      "Alors cette équation du polynôme admet 2 solutions réelles distinctes:\n",
      "x1 =  -0.0  et x2 =  0.0\n"
     ]
    }
   ],
   "source": [
    "from math import * # * oublie  par l'eleve mais obligatoire ici.\n",
    "\n",
    "print(\"\")\n",
    "\n",
    "a=float(input(\"inserer la valeur de a: a=\"))\n",
    "\n",
    "b=float(input(\"inserer la valeur de b: b=\"))\n",
    "\n",
    "c= float(input(\"insererla valeur de c: c=\"))\n",
    "\n",
    "print(\"\")\n",
    "\n",
    "print(\"ce polynôme est exprimée par: P(x) =\", a , \"x^2 +\",b ,\"x +\",c, \"=0\")\n",
    "\n",
    "print(\"\")\n",
    "\n",
    "Delta=b**2 - 4*a*c\n",
    "\n",
    "print(\"Delta=\", Delta)\n",
    "\n",
    "print(\"\")\n",
    "\n",
    "if Delta>0:\n",
    "\n",
    "    print(\"Alors cette équation du polynôme admet 2 solutions réelles distinctes:\")\n",
    "\n",
    "    x1=(-b-sqrt(Delta))/2*a\n",
    "\n",
    "    x2=(-b+sqrt(Delta))/2*a\n",
    "\n",
    "    print(\"x1 = \",x1,\" et x2 = \",x2)\n",
    "\n",
    "if Delta==0 : # pas de parenthèses entre Delta et == : Delta(==0)\n",
    "\n",
    "    print(\"Alors cette equation du polynôme admet une seule et unique solution réelle:\")\n",
    "\n",
    "    x0=-b/(2*a)\n",
    "\n",
    "    print(\"x0 = \",x0)\n",
    "\n",
    "if Delta<0:\n",
    "\n",
    "    print(\"Alors cette equation du polynôme n'amet aucune solution réelle.\")\n",
    "    \n",
    "# Commentaire de correction : Aucun alinéas respecté apès la condition if = problème de stucture !\n",
    "# En plus des commentaires sur le code, il ne tient pas compte de la valeur a = 0."
   ]
  },
  {
   "cell_type": "markdown",
   "metadata": {},
   "source": [
    "TANDOUNA Nathan : Note de l'élève = 8/10."
   ]
  },
  {
   "cell_type": "code",
   "execution_count": 133,
   "metadata": {},
   "outputs": [
    {
     "name": "stdout",
     "output_type": "stream",
     "text": [
      "Donner la valeur de a : 1\n",
      "Donner la valeur de b : 1\n",
      "Donner la valeur de c : -6\n",
      "Delta =  25.0\n",
      "Deux solutions :  -3.0  et  2.0\n"
     ]
    }
   ],
   "source": [
    "from math import *\n",
    "a=float(input(\"Donner la valeur de a : \"))\n",
    "b=float(input(\"Donner la valeur de b : \"))\n",
    "c=float(input(\"Donner la valeur de c : \"))\n",
    "if a==0:\n",
    "    if b==0:\n",
    "        if c==0:\n",
    "            print(\"Tout réel est une solution\")\n",
    "        else:\n",
    "            print(\"Pas de solution\")\n",
    "    else:\n",
    "    \tprint(\"La solution est : \",-b/a)\n",
    "else:\n",
    "    Delta=pow(b,2)-4*a*c\n",
    "    print(\"Delta = \",Delta)\n",
    "    if Delta<0:\n",
    "\t    print(\"Il n'y a pas de solution dans R\")\n",
    "    if Delta==0:\n",
    "\t    print(\"La solution est : \",-b/2*a)\n",
    "    if Delta>0:\n",
    "\t    print(\"Deux solutions : \",(-b-sqrt(Delta))/2*a,\" et \",(-b+sqrt(Delta))/2*a) # Deux fois -b là --> (-b-b+sqrt(Delta))/2*a) \n",
    "        \n",
    "# Commentaire de correction : Tenir compte de la valeur a = 0 dans le programme !"
   ]
  },
  {
   "cell_type": "markdown",
   "metadata": {},
   "source": [
    "TASCI Mathieu : Note de l'élève = 9/10."
   ]
  },
  {
   "cell_type": "code",
   "execution_count": 138,
   "metadata": {},
   "outputs": [
    {
     "name": "stdout",
     "output_type": "stream",
     "text": [
      "A = 1\n",
      "B = 1\n",
      "C = -6\n",
      "L'équation est :  1 x² +  1 x +  -6\n",
      "Delta = 25\n",
      "Le discriminant est supérieur à 0, il y a deux solutions:\n",
      "x1 = -3.0\n",
      "x2 = 2.0\n"
     ]
    }
   ],
   "source": [
    "from math import *\n",
    "\n",
    "\n",
    "a = int(input(\"A = \"))\n",
    "b = int(input(\"B = \"))\n",
    "c = int(input(\"C = \"))\n",
    "\n",
    "\n",
    "def equation(a, b, c):\n",
    "    print(\"L'équation est : \", a, \"x² + \", b, \"x + \", c)\n",
    "    Delta = (b ** 2) - (4 * a * c)\n",
    "    print(\"Delta =\", Delta)\n",
    "    if Delta < 0:\n",
    "        print(\"Le discriminant est inférieur à 0, il n y a pas de solution.\")\n",
    "    elif Delta == 0:\n",
    "        print(\"Le discriminant est égal à 0, il y a une solution:\")\n",
    "        x0 = (- b) / (2 * a)\n",
    "        print (\"x0 =\", x0)\n",
    "    else:\n",
    "        print(\"Le discriminant est supérieur à 0, il y a deux solutions:\")\n",
    "        x1 = (- b - sqrt(Delta)) / (2 * a)\n",
    "        x2 = (- b + sqrt(Delta)) / (2 * a)\n",
    "        print (\"x1 =\", x1)\n",
    "        print (\"x2 =\", x2)\n",
    "equation(a, b, c)\n",
    "\n",
    "# Commentaire de correction : Tenir compte de la valeur a = 0 dans le programme sinon il va buger !"
   ]
  },
  {
   "cell_type": "markdown",
   "metadata": {},
   "source": [
    "TKITEK bilel : Note de l'élève = 9/10."
   ]
  },
  {
   "cell_type": "code",
   "execution_count": 144,
   "metadata": {},
   "outputs": [
    {
     "name": "stdout",
     "output_type": "stream",
     "text": [
      "definir a:1\n",
      "definir b:1\n",
      "definir c:-6\n",
      "delta= 25.0\n",
      "deux solutions: -3.0 et 2.0\n"
     ]
    }
   ],
   "source": [
    "from math import*\n",
    "a = float(input(\"definir a:\"))\n",
    "b = float(input(\"definir b:\"))\n",
    "c = float(input(\"definir c:\"))\n",
    "if a==0: \n",
    "  if b==0:\n",
    "    if c==0:\n",
    "      print(\"tout reel est une solution\")\n",
    "    else:\n",
    "      print(\"pas de solution\")\n",
    "  else: \n",
    "    print(\"la solution est:\",-b/a)\n",
    "else: \n",
    "  delta=b**2-4*a*c\n",
    "  print(\"delta=\",delta)\n",
    "  if delta<0:\n",
    "    print(\"pas de solution\")\n",
    "  if delta==0:\n",
    "    print(\"la solution est:\",-b/2*a)\n",
    "  if delta>0:\n",
    "    print(\"deux solutions:\",(-b-sqrt(delta))/2*a,\"et\",(-b+sqrt(delta))/2*a)\n",
    "    \n",
    "# Commentaire de correction : Tenir compte de la valeur a = 0 dans le programme sinon il va buger !"
   ]
  },
  {
   "cell_type": "markdown",
   "metadata": {},
   "source": [
    "# Correction du projet rendu : TP du chapitre 1 (Second degré)."
   ]
  },
  {
   "cell_type": "code",
   "execution_count": 1,
   "metadata": {},
   "outputs": [
    {
     "name": "stdout",
     "output_type": "stream",
     "text": [
      "\n",
      "valeur de a = 0\n",
      "valeur de b = 1\n",
      "valeur de c = -4\n",
      "\n",
      "La valeur de a doit être différent de zéro.\n"
     ]
    }
   ],
   "source": [
    "from math import *\n",
    "print(\"\")\n",
    "a = float(input('valeur de a = '))\n",
    "b = float(input('valeur de b = '))\n",
    "c = float(input('valeur de c = '))\n",
    "if a != 0:\n",
    "    print(\"\")\n",
    "    print(\"Le polynôme est donné par : P(x) = \",a,'x^2 + ',b,'x + (',c,\")\")\n",
    "    print(\"\")\n",
    "    Delta = b**2 - 4*a*c\n",
    "    print(\"Delta = \",Delta)\n",
    "    print(\"\")\n",
    "    if Delta < 0:\n",
    "        print('Pas de solutions réelles.')\n",
    "    elif Delta == 0:\n",
    "        x_0 = -b/(2*a)\n",
    "        print('Une unique soluttion.')\n",
    "        print(\"\")\n",
    "        print('x_0 =',x_0)\n",
    "    else:\n",
    "        print('Deux solutions réelles distinctes.')\n",
    "        x_1 = (-b - sqrt(Delta))/(2*a)\n",
    "        x_2 = (-b + sqrt(Delta))/(2*a)\n",
    "        print(\"\")\n",
    "        print(\"x_1 = \",x_1,\" et x_2 = \",x_2)\n",
    "else:\n",
    "    print('')\n",
    "    print('La valeur de a doit être différent de zéro.')"
   ]
  },
  {
   "cell_type": "markdown",
   "metadata": {},
   "source": [
    "# Jeux du nombre magique (code amélioré)"
   ]
  },
  {
   "cell_type": "markdown",
   "metadata": {},
   "source": [
    "Description : Deviner le nombre magique donné par l'ordinateur entre 1 et 20."
   ]
  },
  {
   "cell_type": "code",
   "execution_count": null,
   "metadata": {},
   "outputs": [],
   "source": [
    "from random import randint # randint genere aleatoirement un nombre entier \n",
    "\n",
    "magic_number = randint(1,20) # Donner un entier au hasard entre 1 et 20.\n",
    "guess_number = int(input(\"Devine le nombre magic ? \\n magic_number = \"))\n",
    "while guess_number != magic_number :\n",
    "    print(\" Ouppps !!!\")\n",
    "    print(\"\")\n",
    "    if magic_number <= guess_number :\n",
    "        print(\"Donne une valeur plus petie ?\")\n",
    "        guess_number = int(input(\"Devine encore ? \\n magic_number = \"))\n",
    "    else:\n",
    "        print(\"Donne une valeur plus grande ?\")\n",
    "        guess_number = int(input(\"Devine encore ? \\n magic_number = \"))\n",
    "    print(\"\")"
   ]
  }
 ],
 "metadata": {
  "kernelspec": {
   "display_name": "Python 3",
   "language": "python",
   "name": "python3"
  },
  "language_info": {
   "codemirror_mode": {
    "name": "ipython",
    "version": 3
   },
   "file_extension": ".py",
   "mimetype": "text/x-python",
   "name": "python",
   "nbconvert_exporter": "python",
   "pygments_lexer": "ipython3",
   "version": "3.6.9"
  }
 },
 "nbformat": 4,
 "nbformat_minor": 2
}
