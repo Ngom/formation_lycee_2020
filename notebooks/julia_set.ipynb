{
 "cells": [
  {
   "cell_type": "markdown",
   "metadata": {
    "hide_input": true
   },
   "source": [
    "<center>Rencontre Polytechnique - Enseignants du secondaire</center>\n",
    "<center>Loïc Gouarin <a href=\"mailto:loic.gouarin@polytechnique.edu\">(écrire)</a></center>\n",
    "\n",
    "# Maths expérimentales : l'ensemble de Julia\n",
    "\n",
    "Cette session se place dans le contexte suivant :\n",
    "* Terminale Voie Générale (mathématiques expertes)\n",
    " - Nombres complexes (point de vue géométrique)\n",
    "   * Étude expérimentale de l’ensemble de Mandelbrot, d’ensembles de Julia.\n",
    "   \n",
    "Le plan euclidien $\\mathbb{R}^2$ peut être vu comme l’ensemble des nombres complexes. On peut donc observer leur comportement de manière géométrique.\n",
    "\n",
    "Un nombre complexe est donc représenté sur le plan euclidien en prenant l'axe des abscisses pour la partie réelle et l'axe des ordonnées pour la partie imaginaire. Ainsi le nombre complexe $z = a + ib$ est associé au point $M$ de coordonnées $(a, b)$."
   ]
  },
  {
   "cell_type": "code",
   "execution_count": 1,
   "metadata": {
    "hide_input": false
   },
   "outputs": [],
   "source": [
    "from julia_material import *"
   ]
  },
  {
   "cell_type": "code",
   "execution_count": 2,
   "metadata": {},
   "outputs": [
    {
     "data": {
      "application/vnd.jupyter.widget-view+json": {
       "model_id": "499a14dcf5f64a56b0f27510b7a832e2",
       "version_major": 2,
       "version_minor": 0
      },
      "text/plain": [
       "VBox(children=(Figure(axes=[Axis(grid_lines='none', offset={'value': 0.5}, scale=LinearScale(max=2.0, min=-2.0…"
      ]
     },
     "metadata": {},
     "output_type": "display_data"
    }
   ],
   "source": [
    "representation_complexe()"
   ]
  },
  {
   "cell_type": "markdown",
   "metadata": {},
   "source": [
    "Intéressons nous maintenant aux ensembles de Julia. Soit la suite $(z_n)$ définie par\n",
    "\n",
    "$$\n",
    "z_{n+1} = z_{n}^2 + c,\n",
    "$$\n",
    "\n",
    "où $z_0$ et $c$ sont deux nombres complexes.\n",
    "\n",
    "L'ensemble de Julia correspondant est la frontière de l'ensemble des valeurs initiales $z_0$ pour lesquelles la suite est bornée.\n",
    "\n",
    "Pour un $z_0$ et un $c$ donnés, on peut calculer les valeurs successives de la suite ce qui nous donne l'orbite. Cette orbite peut converger vers un point: on dit alors que la suite est bornée; ou avoir des valeurs qui tendent vers l'infini: on dit alors que la suite diverge."
   ]
  },
  {
   "cell_type": "markdown",
   "metadata": {},
   "source": [
    "Voici l'exemple où la suite converge"
   ]
  },
  {
   "cell_type": "code",
   "execution_count": 3,
   "metadata": {},
   "outputs": [
    {
     "data": {
      "application/vnd.jupyter.widget-view+json": {
       "model_id": "710e08a5943f45feb222a744fb82b29f",
       "version_major": 2,
       "version_minor": 0
      },
      "text/plain": [
       "Figure(axes=[Axis(grid_lines='none', offset={'value': 0.5}, scale=LinearScale(max=1.2, min=-1.2)), Axis(grid_l…"
      ]
     },
     "metadata": {},
     "output_type": "display_data"
    }
   ],
   "source": [
    "plot_orbit(z0=-0.65 + 1j*0.49, c=-0.3 + 1j*0.55)"
   ]
  },
  {
   "cell_type": "markdown",
   "metadata": {},
   "source": [
    "Et ici un exemple où la suite diverge"
   ]
  },
  {
   "cell_type": "code",
   "execution_count": 4,
   "metadata": {},
   "outputs": [
    {
     "data": {
      "application/vnd.jupyter.widget-view+json": {
       "model_id": "464b88d6d95b44e59cc8e3548e59329f",
       "version_major": 2,
       "version_minor": 0
      },
      "text/plain": [
       "Figure(axes=[Axis(grid_lines='none', offset={'value': 0.5}, scale=LinearScale(max=1.2, min=-1.2)), Axis(grid_l…"
      ]
     },
     "metadata": {},
     "output_type": "display_data"
    }
   ],
   "source": [
    "plot_orbit(z0=-0.65 + 1j*0.49, c=0.35 + 1j*0.3)"
   ]
  },
  {
   "cell_type": "markdown",
   "metadata": {},
   "source": [
    "On remarquera que si $c=0$ et que $z_0$ est dans le cercle unité, alors la suite converge toujours vers $0$. Dès qu'on sort du cercle unité, la suite tend vers l'infini."
   ]
  },
  {
   "cell_type": "code",
   "execution_count": 5,
   "metadata": {},
   "outputs": [
    {
     "data": {
      "application/vnd.jupyter.widget-view+json": {
       "model_id": "3620626a7c8e4a94a1cb71b4bff0431c",
       "version_major": 2,
       "version_minor": 0
      },
      "text/plain": [
       "Figure(axes=[Axis(grid_lines='none', offset={'value': 0.5}, scale=LinearScale(max=1.2, min=-1.2)), Axis(grid_l…"
      ]
     },
     "metadata": {},
     "output_type": "display_data"
    }
   ],
   "source": [
    "plot_orbit(z0=-0.65 + 1j*0.49, c=0*1j)"
   ]
  },
  {
   "cell_type": "markdown",
   "metadata": {},
   "source": [
    " Pour chacune des figures, vous pouvez à tout moment déplacer les points $z_0$ et $c$.\n",
    " \n",
    " Regarder les différents orbites que vous pouvez obtenir."
   ]
  },
  {
   "cell_type": "markdown",
   "metadata": {},
   "source": [
    "Nous allons maintenant nous intéresser aux points complexes où la suite converge."
   ]
  },
  {
   "cell_type": "code",
   "execution_count": 6,
   "metadata": {},
   "outputs": [
    {
     "data": {
      "application/vnd.jupyter.widget-view+json": {
       "model_id": "c5382063de6d4e0b92dd201b3d66d10a",
       "version_major": 2,
       "version_minor": 0
      },
      "text/plain": [
       "VBox(children=(Output(), VBox(children=(FloatSlider(value=-0.77, description='Partie réelle de $c$', max=2.0, …"
      ]
     },
     "metadata": {},
     "output_type": "display_data"
    }
   ],
   "source": [
    "from ipywidgets import FloatSlider, interactive_output, VBox\n",
    "\n",
    "c_r = FloatSlider(value=-0.77,\n",
    "                  min=-2,\n",
    "                  max=2,\n",
    "                  step=0.01,\n",
    "                  description='Partie réelle de $c$')\n",
    "\n",
    "c_i = FloatSlider(value=0.12,\n",
    "                  min=-2,\n",
    "                  max=2,\n",
    "                  step=0.01,\n",
    "                  description='Partie imaginaire de $c$')\n",
    "\n",
    "ui = VBox([c_r, c_i])\n",
    "interactive_plot = interactive_output(julia_plot, {'c_r': c_r, 'c_i': c_i})\n",
    "VBox([interactive_plot, ui])"
   ]
  },
  {
   "cell_type": "markdown",
   "metadata": {},
   "source": [
    "Voici une liste de formes intéressantes. Mais n'hésitez pas à faire varier la partie réelle et la partie imaginaire de $c$."
   ]
  },
  {
   "cell_type": "code",
   "execution_count": 7,
   "metadata": {},
   "outputs": [],
   "source": [
    "c_r.value, c_i.value = -1.476, 0"
   ]
  },
  {
   "cell_type": "code",
   "execution_count": 8,
   "metadata": {},
   "outputs": [],
   "source": [
    "c_r.value, c_i.value = 0.285, 0."
   ]
  },
  {
   "cell_type": "code",
   "execution_count": 9,
   "metadata": {},
   "outputs": [],
   "source": [
    "c_r.value, c_i.value = -0.8, 0."
   ]
  },
  {
   "cell_type": "code",
   "execution_count": 10,
   "metadata": {},
   "outputs": [],
   "source": [
    "c_r.value, c_i.value = -0.6, 0.6"
   ]
  },
  {
   "cell_type": "code",
   "execution_count": null,
   "metadata": {},
   "outputs": [],
   "source": []
  }
 ],
 "metadata": {
  "hide_input": false,
  "kernelspec": {
   "display_name": "Python 3",
   "language": "python",
   "name": "python3"
  },
  "language_info": {
   "codemirror_mode": {
    "name": "ipython",
    "version": 3
   },
   "file_extension": ".py",
   "mimetype": "text/x-python",
   "name": "python",
   "nbconvert_exporter": "python",
   "pygments_lexer": "ipython3",
   "version": "3.7.5"
  }
 },
 "nbformat": 4,
 "nbformat_minor": 2
}
