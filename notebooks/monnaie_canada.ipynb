{
 "cells": [
  {
   "cell_type": "markdown",
   "metadata": {},
   "source": [
    "<center>Rencontre Polytechnique - Enseignants du secondaire</center>\n",
    "<center>Lucas Gerin <a href=\"mailto:lucas.gerin@polytechnique.edu\">(écrire)</a></center>\n",
    "\n",
    "# Un exemple de modélisation et simulation probabiliste\n",
    "\n",
    "Cette session se place dans le contexte suivant :\n",
    "* Terminale Voie Générale (Mathématiques Expertes)\n",
    " - Graphes et matrices\n",
    "   * Chaîne de Markov à deux ou trois états. Distribution initiale, représentée par une\n",
    "matrice ligne $\\pi_0$ . Matrice de transition, graphe pondéré associé.\n",
    "   \n",
    "Nous allons traiter expérimentalement et théoriquement un modèle mathématique issu de la vie réelle : le problème des arrondis de monnaie au Canada. L'objectif est de présenter une démarche de recherche assez proche de ce qui se fait en Mathématiques Appliquées.\n",
    "\n",
    "Deux supports pédagogiques peuvent compléter ce Notebook : \n",
    "\n",
    "* <a href=\"http://culturemath.ens.fr/content/les-ehrenfest-viennent-en-aide-%C3%A0-boltzmann\">Alexandre Marino. <i>Les Ehrenfest viennent en aide à Boltzmann</i>. CultureMath - Eduscol</a><br>\n",
    "(Introduction très claire aux chaînes de Markov)\n",
    "* <a href=\"https://www.apmep.fr/IMG/pdf/07-Bonneval_C.pdf\">Louis-Marie Bonneval. <i>Chaînes de Markov au lycée</i>. Bulletin de l'APMEP n.503.</a><br>\n",
    "(Etude de quelques exemples, moins formel que la 1ère référence)\n"
   ]
  },
  {
   "cell_type": "markdown",
   "metadata": {},
   "source": [
    "## Sommaire\n",
    "\n",
    "- [Le problème : arrondis de monnaie au Canada](#Probleme)\n",
    " * [Le modèle probabiliste](#Modele)\n",
    " * [Simulations préliminaires : les variables $X_n$](#Simulations)\n",
    "- [Expérience aléatoire : simulations de $R_N$](#Experimentation)\n",
    "- [Calcul exact des probabilités : utilisation des matrices de transition](#Matrices)"
   ]
  },
  {
   "cell_type": "code",
   "execution_count": 1,
   "metadata": {},
   "outputs": [],
   "source": [
    "# On charge les librairies Python\n",
    "import matplotlib.pyplot as plt # Pour tracer des graphiques\n",
    "import numpy as np              # Pour faire des maths"
   ]
  },
  {
   "cell_type": "code",
   "execution_count": 2,
   "metadata": {},
   "outputs": [],
   "source": [
    "# Cette commande demande que les sorties graphiques soient dans la fenêtre principale\n",
    "%matplotlib inline   "
   ]
  },
  {
   "cell_type": "code",
   "execution_count": 3,
   "metadata": {},
   "outputs": [],
   "source": [
    "# Librairies spéciales pour pouvoir créer des boutons interactifs (\"widgets\")\n",
    "from ipywidgets import interact"
   ]
  },
  {
   "cell_type": "markdown",
   "metadata": {},
   "source": [
    "<a id=\"Probleme\"></a>\n",
    "# Le problème : arrondis de monnaie au Canada"
   ]
  },
  {
   "cell_type": "markdown",
   "metadata": {},
   "source": [
    "En 2012, le Canada a décidé d'arrêter la production et simulation des pièces de $1$ cent. Toutefois il est possible de proposer des prix au cent près, la règle en vigueur pour un paiement en espèce est alors un arrondi au multiple de cinq cents le plus proche.\n",
    "\n",
    "<center>\n",
    "<img src=\"./figures/PennyGraph02_f.jpg\" style=\"width: 600px;\"/>\n",
    "    <i>(Source : Ministère des Finances Canada)</i>\n",
    "</center>\n",
    "\n",
    "**Attention :** La règle essentielle pour ce qui suit est que lorsqu'un paiement concerne plusieurs produits, l'arrondi se fait sur la somme finale :\n",
    "\n",
    "<center>\n",
    "<img src=\"./figures/PennyGraph01_f.jpg\" style=\"width: 600px;\"/>\n",
    "    <i>(Source : Ministère des Finances Canada)</i>\n",
    "</center>"
   ]
  },
  {
   "cell_type": "markdown",
   "metadata": {},
   "source": [
    "Les questions que l'on se pose sont justement liées au cas des paniers avec beaucoup de produits :\n",
    "\n",
    "* **Question 1 :** Est-ce que de manière générale cette règle est plutôt favorable ou défavorable aux clients? (Est-ce que l'on gagne plus ou moins souvent $1$ ou $2$ cents que l'on en perd?)\n",
    "* **Question 2 :** Est-il possible (pour un supermarché par exemple) de tricher en faisant en sorte que la plupart du temps l'arrondi profite au magasin (c'est-à-dire que la plupart des montants finissent par $3,4,8,9$).\n",
    "\n",
    "On voit que ces questions sont mathématiquement assez mal posées, il nous faut donc un modèle. Nous avons choisi un modèle probabiliste."
   ]
  },
  {
   "cell_type": "markdown",
   "metadata": {},
   "source": [
    "<a id='Modele'></a>\n",
    "## Le modèle probabiliste"
   ]
  },
  {
   "cell_type": "markdown",
   "metadata": {},
   "source": [
    "#### Notations\n",
    "On suppose qu'un client achète $N$ produits, et pour $1\\leq n\\leq N$ on note $X_n$ ce qui nous intéresse: le second chiffre après la virgule dans le prix du $n$-ème produit.\n",
    "\n",
    "Au final l'arrondi se produit sur le second chiffre après la virgule de $X_1 +\\dots +X_n$. On note $R_N$ cet arrondi, on a\n",
    "$$\n",
    "R_N=X_1 +\\dots +X_N \\text{ mod }10.\n",
    "$$\n",
    "<br>\n",
    "<i>(Si par exemple un client achète $N=2$ produits à $3,74$</i>\\$<i> et $11,68$</i>\\$<i> alors on a</i> $X_1=4$, $X_2=8$ et $ R_2=4+8 \\text{ mod }10=2$.)\n",
    "\n",
    "* Si $R_N\\in\\{1,2,6,7\\}$, l'arrondi est favorable au client.\n",
    "* Si $R_N\\in\\{3,4,8,9\\}$, l'arrondi est favorable au supermarché.\n"
   ]
  },
  {
   "cell_type": "markdown",
   "metadata": {},
   "source": [
    "#### Hypothèses\n",
    "\n",
    "On suppose que les $X_i$ sont des variables aléatoires indépendantes et ont toutes la même loi. Pour tout $r=0,1,\\dots, 9$ on note\n",
    "$$\n",
    "p_r = \\mathbb{P}(X_n=r).\n",
    "$$\n",
    "(Remarquons que ce nombre ne dépend pas de $n$ car les $X_n$ ont même loi.)\n",
    "\n",
    "Une rapide étude de marché (Source : <a href=\"https://www.walmart.ca/fr\">Catalogue de jouet de Walmart Canada</a>) nous a donné les estimations suivantes sur $127$ jouets :\n",
    "$$\n",
    "p_0 = 0.071, \\quad\n",
    "p_1 = 0.087, \\quad\n",
    "p_2 = 0.087, \\quad\n",
    "p_3 = 0.024, \\quad\n",
    "p_4 = 0.071, \\quad\n",
    "p_5 = 0.055, \\quad\n",
    "p_6 = 0.047, \\quad\n",
    "p_7 = 0.346, \\quad\n",
    "p_8 = 0.047, \\quad\n",
    "p_9 = 0.165, \\quad\n",
    "$$"
   ]
  },
  {
   "cell_type": "markdown",
   "metadata": {},
   "source": [
    "<div markdown=1 class=\"Rmk\"> On voit en particulier que les derniers chiffres ne sont pas du tout uniformes : les $p_r$ sont très différent. Je m'attendais personnellement à avoir $p_9$ beaucoup plus grand, mais c'est étrangement $7$ qui est le chiffre le plus courant.<br>\n",
    "En tout cas, si on achète un seul produit, la règle est favorable au client! En effet\n",
    "$$\n",
    "p_1+p_2+p_6+p_7=0.567\n",
    "$$\n",
    "alors que\n",
    "$$\n",
    "p_3+p_4+p_8+p_9=0.307\n",
    "$$"
   ]
  },
  {
   "cell_type": "markdown",
   "metadata": {},
   "source": [
    "Voici les valeurs saisies dans une liste python :"
   ]
  },
  {
   "cell_type": "code",
   "execution_count": 5,
   "metadata": {},
   "outputs": [
    {
     "data": {
      "image/png": "[encoded data removed]",
      "text/plain": [
       "<Figure size 432x288 with 1 Axes>"
      ]
     },
     "metadata": {
      "needs_background": "light"
     },
     "output_type": "display_data"
    }
   ],
   "source": [
    "PrixUnitaires = [0]*9 + [1]*11 + [2]*11 + [3]*3 + [4]*9 + [5]*7 + [6]*6 + [7]*44 + [8]*6 + [9]*21\n",
    "\n",
    "DistributionWalmart=[0.071 , 0.087 , 0.087 , 0.024 , 0.071 , 0.055 , 0.047 , 0.346 , 0.047 , 0.165]\n",
    "\n",
    "plt.hist(PrixUnitaires,\n",
    "         bins=10,\n",
    "         facecolor='g',\n",
    "         alpha=0.2,\n",
    "         label='repartition du dernier chiffre') # Histogramme normalise\n",
    "\n",
    "plt.legend(loc='best')\n",
    "plt.show()"
   ]
  },
  {
   "cell_type": "markdown",
   "metadata": {},
   "source": [
    "#### Reformulation mathématique du problème\n",
    "\n",
    "* **Question 1**. Si $N$ est grand, et que les valeurs des $(p_r)_{0\\leq r\\leq 9}$ sont comme ci-dessus, que peut-on dire de la loi de la variable aléatoire $R_N$? En particulier, est-ce qu'elle prend plus souvent les valeurs $1,2,6,7$ ou $3,4,8,9$?\n",
    "* **Question 2** Existe-t-il un choix de valeurs pour $(p_r)_{0\\leq r\\leq 9}$ qui fasse en sorte que\n",
    "$R_N$ prenne plus souvent les valeurs $3,4,8,9$?\n",
    "\n",
    "Pour répondre à ces questions nous allons :\n",
    "1. Simuler un grand nombre de panier d'achats et représenter des histogrammes des valeurs $R_N$ correspondantes.\n",
    "2. Calculer de façon exacte la loi de $R_N$, à l'aide d'un graphe pondéré et d'une matrice de transition."
   ]
  },
  {
   "cell_type": "markdown",
   "metadata": {},
   "source": [
    "<a id='Simulations'></a>\n",
    "## Simulations préliminaires : variables $X_1,\\dots,X_N$"
   ]
  },
  {
   "cell_type": "markdown",
   "metadata": {},
   "source": [
    "On cherche à définir une fonction `TiragePrix(Distribution)` qui prenne en entrée la liste des distributions des prix (par exemple on peut l'appliquer à `DistributionWalmart`) et qui renvoie à chaque tirage des variables $X$ tirées selon la distribution `Distribution`.\n",
    "\n",
    "Pour cela nous allons utiliser une variable aléatoire continue uniforme $U$ dans l'intervalle $[0,1]$. L'idée est alors de renvoyer $X=r$, où $r$ est l'unique valeur dans $\\{0,1,\\dots, 9\\}$ telle que\n",
    "$$\n",
    "p_0+\\dots +p_{r-1} < U\\leq p_0+\\dots +p_{r}.\n",
    "$$\n",
    "Cette méthode est illustrée dans la figure ci-dessous :\n",
    "\n",
    "<center>\n",
    "<img src=\"./figures/SimulationUniforme.jpg\" style=\"width: 600px;\"/>\n",
    "</center>\n",
    "Pour simuler $U$ nous allons utiliser la fonction `np.random.rand()` de python qui ne prend aucun argument en entrée, et renvoie une variable aléatoire continue uniforme dans l'intervalle $[0,1]$."
   ]
  },
  {
   "cell_type": "code",
   "execution_count": 16,
   "metadata": {},
   "outputs": [
    {
     "name": "stdout",
     "output_type": "stream",
     "text": [
      "[1, 7, 7, 7, 0, 5, 2, 7, 2, 7, 7, 7, 1, 5, 7]\n"
     ]
    }
   ],
   "source": [
    "def TiragePrix(Distribution):\n",
    "    # entrée : vecteur \"Distribution\" =[p_0,p_1,p_2,...,p_9] de probabilités\n",
    "    # sortie : tirage d'une variable X de loi \"Distribution\".\n",
    "    VariableUniforme = np.random.rand()\n",
    "    ProbasCumulees = np.cumsum(Distribution)  # fabrique le vecteur [p_0,p_0+p_1,p_0+p_1+p_2,...]\n",
    "    X = 0   # X sera l'entier qu'on renvoie à la fin\n",
    "    r = 0   # r =0,1,...,9 désigne l'indice pour parcourir le vecteur \"Distribution\"\n",
    "    while VariableUniforme > ProbasCumulees[r]:\n",
    "        # on parcourt ProbasCumulees jusqu'a tomber dans le bon intervalle\n",
    "        X += 1\n",
    "        r += 1\n",
    "    return X\n",
    "\n",
    "# test\n",
    "Test=[TiragePrix(DistributionWalmart) for n in range(15)]\n",
    "print(Test)"
   ]
  },
  {
   "cell_type": "markdown",
   "metadata": {},
   "source": [
    "### Visualiser des tirages de $X$\n",
    "\n",
    "On commence par simuler les paniers de $C$ clients qui achètent **un seul** produit selon la distribution `DistributionWalmart`, et on représente les résultats dans un histogramme.<br>\n",
    "Autrement dit, on tire au sort $C$ fois la variable $X$."
   ]
  },
  {
   "cell_type": "code",
   "execution_count": 17,
   "metadata": {},
   "outputs": [
    {
     "data": {
      "application/vnd.jupyter.widget-view+json": {
       "model_id": "4637361351a449d0bef5fb1e40ac1c7a",
       "version_major": 2,
       "version_minor": 0
      },
      "text/plain": [
       "interactive(children=(IntSlider(value=96, description='C', max=200, min=1, step=5), Output()), _dom_classes=('…"
      ]
     },
     "metadata": {},
     "output_type": "display_data"
    },
    {
     "data": {
      "text/plain": [
       "<function __main__.HistogrammeDesPrix(C)>"
      ]
     },
     "execution_count": 17,
     "metadata": {},
     "output_type": "execute_result"
    }
   ],
   "source": [
    "def HistogrammeDesPrix(C):\n",
    "    ListePrix = [TiragePrix(DistributionWalmart) for p in range(C)]\n",
    "    plt.hist(ListePrix,\n",
    "             bins=np.arange(-0.5,10.5),\n",
    "             facecolor='g',\n",
    "             alpha=0.2) # Histogramme normalise\n",
    "    plt.title(f'Tirages de C = {C} prix suivant la distribution de Walmart')\n",
    "    plt.show()\n",
    "    \n",
    "interact(HistogrammeDesPrix, C=(1, 200, 5))  # On lance la fonction avec un \"widget\" pour choisir a"
   ]
  },
  {
   "cell_type": "markdown",
   "metadata": {},
   "source": [
    "<a id='Experimentation'></a>\n",
    "## Expérience aléatoire : simulations de $R_N$"
   ]
  },
  {
   "cell_type": "markdown",
   "metadata": {},
   "source": [
    "On peut maintenant faire des expériences aléatoires pour essayer de répondre aux Questions 1 et 2. Pour cela on va considérer $C$ clients qui achètent chacun $N$ produits. On va représenter les $C$ valeurs de $R_N$ dans un histogramme."
   ]
  },
  {
   "cell_type": "code",
   "execution_count": 10,
   "metadata": {},
   "outputs": [],
   "source": [
    "def TirageR(N, Distribution):\n",
    "    # entrée : entier N , vecteur de probabilités \"Distribution\" de taille 10\n",
    "    # sortie : Tirage d'une variable aléatoire R_N\n",
    "    Tirages = [TiragePrix(Distribution) for n in range(N)]\n",
    "    SommeDesPrix = np.sum(Tirages)\n",
    "    return SommeDesPrix%10"
   ]
  },
  {
   "cell_type": "code",
   "execution_count": 11,
   "metadata": {},
   "outputs": [
    {
     "data": {
      "application/vnd.jupyter.widget-view+json": {
       "model_id": "bf44911977834a7e8f28ae179ee39c43",
       "version_major": 2,
       "version_minor": 0
      },
      "text/plain": [
       "interactive(children=(IntSlider(value=2500, description='C', max=3000, min=2000, step=100), IntSlider(value=15…"
      ]
     },
     "metadata": {},
     "output_type": "display_data"
    },
    {
     "data": {
      "text/plain": [
       "<function __main__.HistogrammeDesR(C, N)>"
      ]
     },
     "execution_count": 11,
     "metadata": {},
     "output_type": "execute_result"
    }
   ],
   "source": [
    "DistributionWalmart = [0.071 , 0.087 , 0.087 , 0.024 , 0.071 , 0.055 , 0.047 , 0.346 , 0.047 , 0.165]\n",
    "#Test de triche \n",
    "DistributionTriche = [0 , 0 , 0 , 0.1 , 0.1 , 0 , 0 , 0 , 0 , 0.8]\n",
    "\n",
    "def HistogrammeDesR(C, N):\n",
    "    ListePrix = [TirageR(N, DistributionWalmart) for c in range(C)]\n",
    "    plt.hist(ListePrix,\n",
    "             bins=np.arange(-0.5,10.5),\n",
    "             facecolor='g',\n",
    "             alpha=0.2) # Histogramme normalise\n",
    "    plt.title(f'Valeurs de R pour C = {C} clients qui achetent chacun N = {N} produits')\n",
    "    plt.show()\n",
    "    \n",
    "interact(HistogrammeDesR, C=(2000, 3000, 100), N=(1, 30, 1))  # On lance la fonction avec un \"widget\" pour choisir C,N"
   ]
  },
  {
   "cell_type": "markdown",
   "metadata": {},
   "source": [
    "<div markdown=1 class=\"Rmk\"> On observe que pour très peu de produits (dès $N=4$ ou $5$), la distribution de $R_N$ semble uniforme."
   ]
  },
  {
   "cell_type": "markdown",
   "metadata": {},
   "source": [
    "On peut donc essayer de démontrer le résultat suivant :"
   ]
  },
  {
   "cell_type": "markdown",
   "metadata": {},
   "source": [
    "<div markdown=1 class=\"Thm\"> Pour toute distribution des prix $(p_r)_{0\\leq r\\leq 9}$, la variable aléatoire $R_N$ converge vers la loi uniforme lorsque le nombre de produits tend vers l'infini :\n",
    "$$\n",
    "\\forall r\\in\\{0,1,\\dots, 9\\},\\qquad \\mathbb{P}(R_N=r) \\stackrel{N\\to +\\infty}{\\to} \\frac{1}{10}.\n",
    "$$"
   ]
  },
  {
   "cell_type": "markdown",
   "metadata": {},
   "source": [
    "<a id='Matrices'></a>\n",
    "## Calcul exact des probabilités : utilisation des matrices de transition"
   ]
  },
  {
   "cell_type": "markdown",
   "metadata": {},
   "source": [
    "Nous allons adopter un point de vue un peu différent sur ce problème. Au lieu de faire des simulations nous allons calculer explicitement, pour une distribution donnée $(p_r)_{0\\leq r\\leq 9}$ et un entier $N$, les probabilités\n",
    "$$\n",
    "\\mathbb{P}(R_N=r).\n",
    "$$\n",
    "L'objectif est de confirmer numériquement la convergence vers $1/10$."
   ]
  },
  {
   "cell_type": "markdown",
   "metadata": {},
   "source": [
    "### Matrice de transition associée à la suite $(R_n)$\n",
    "\n",
    "Ce calcul va se faire en utilisant des <i>matrices de transition</i>. Pour cela on remarque que la suite $R_n$ peut être représentée comme une marche aléatoire sur le <i>graphe orienté pondéré</i> suivant (on ne représente que 3 arêtes) :\n",
    "\n",
    "<center>\n",
    "<img src=\"./figures/MarcheCercle.jpg\" style=\"width: 450px;\"/>\n",
    "</center>\n",
    "\n",
    "En effet, si $R_n=2$ pour un certain $n$, alors $R_{n+1}=7$ si $X_{n+1}$ finit par un $5$, ce qui arrive avec probabilité $p_5$. Plus formellement, <br>\n",
    "$$\n",
    "\\mathbb{P}(R_{n+1}=7\\ |\\ R_n=2)=p_5.\n",
    "$$\n",
    "<br>\n",
    "Plus généralement, pour tout $n\\geq 0$ et tous $r,s\\in\\{0,1,\\dots,9\\}$ on a\n",
    "<br>\n",
    "$$\n",
    "\\mathbb{P}(R_{n+1}=s\\ |\\ R_n=r)=p_q,\n",
    "$$\n",
    "<br>\n",
    "où $q= s-r$ modulo $10$.\n"
   ]
  },
  {
   "cell_type": "markdown",
   "metadata": {},
   "source": [
    "La matrice de transition $Q$ associée à la suite $(R_n)$ est donc donnée par\n",
    "\n",
    "$$\n",
    "Q=\n",
    "\\phantom{\\begin{matrix} 0 \\end{matrix}}\n",
    "%\\begin{matrix} 0 & 1 & 2 & 3 & 4 & 5 & 6 & 7 & 8 & 9 \\end{matrix}\\\\\n",
    "\\begin{matrix}\n",
    "0\\\\ 1 \\\\ 2 \\\\ \\\\ \\vdots \\\\ \\\\ \\\\ \\\\ \\\\ 9\n",
    "\\end{matrix}\n",
    "\\begin{pmatrix}\n",
    "p_0 & p_1 & p_2 & \\dots & & & p_9\\\\\n",
    "p_9 & p_0 & p_1 & \\dots & & & p_8\\\\\n",
    "p_8 & p_9 & p_0 & \\dots & & & p_7\\\\\n",
    " & & & & & & \\\\\n",
    " & & & & & & \\\\\n",
    " & &  & \\vdots & & & \\\\\n",
    "  & & & & & & \\\\\n",
    " & & & & & & \\\\\n",
    "p_2 & p_3 & p_4  & \\dots & & & p_1\\\\\n",
    "p_1 & p_2 & p_3   &\\dots & & & p_0\\\\\n",
    "\\end{pmatrix}.\n",
    "$$"
   ]
  },
  {
   "cell_type": "markdown",
   "metadata": {},
   "source": [
    "Voici le code d'une fonction qui crée la matrice $Q$ à partir des $(p_r)$."
   ]
  },
  {
   "cell_type": "code",
   "execution_count": 12,
   "metadata": {},
   "outputs": [
    {
     "name": "stdout",
     "output_type": "stream",
     "text": [
      "[[0.071 0.087 0.087 0.024 0.071 0.055 0.047 0.346 0.047 0.165]\n",
      " [0.165 0.071 0.087 0.087 0.024 0.071 0.055 0.047 0.346 0.047]\n",
      " [0.047 0.165 0.071 0.087 0.087 0.024 0.071 0.055 0.047 0.346]\n",
      " [0.346 0.047 0.165 0.071 0.087 0.087 0.024 0.071 0.055 0.047]\n",
      " [0.047 0.346 0.047 0.165 0.071 0.087 0.087 0.024 0.071 0.055]\n",
      " [0.055 0.047 0.346 0.047 0.165 0.071 0.087 0.087 0.024 0.071]\n",
      " [0.071 0.055 0.047 0.346 0.047 0.165 0.071 0.087 0.087 0.024]\n",
      " [0.024 0.071 0.055 0.047 0.346 0.047 0.165 0.071 0.087 0.087]\n",
      " [0.087 0.024 0.071 0.055 0.047 0.346 0.047 0.165 0.071 0.087]\n",
      " [0.087 0.087 0.024 0.071 0.055 0.047 0.346 0.047 0.165 0.071]]\n"
     ]
    }
   ],
   "source": [
    "def MatriceQ(Distribution):\n",
    "    # entrée : vecteur des probabilités \"Distribution\"\n",
    "    # sortie : matrice de transition associée\n",
    "    Matrice = np.zeros((10, 10))\n",
    "    for r in range(10):\n",
    "        for s in range(10):\n",
    "            Matrice[r, s] = Distribution[(s-r)%10]\n",
    "    return Matrice\n",
    "            \n",
    "# Test\n",
    "print(MatriceQ(DistributionWalmart))"
   ]
  },
  {
   "cell_type": "markdown",
   "metadata": {},
   "source": [
    "On dispose alors du résultat suivant :"
   ]
  },
  {
   "cell_type": "markdown",
   "metadata": {},
   "source": [
    "<div markdown=1 class=\"Thm\"> On note $(q^{(n)}_{r,s})_{0\\leq r,s\\leq 9}$ les coefficients de la matrice $Q^n$. Alors pour tout $n$, pour tous $r,s$ on a\n",
    "$$\n",
    "q^{(n)}_{r,s}=\\mathbb{P}(R_n=s\\ |\\ R_0=s).\n",
    "$$"
   ]
  },
  {
   "cell_type": "markdown",
   "metadata": {},
   "source": [
    "En extrayant la $1$ère ligne de $Q^n$, on a donc les valeurs des probabilités $\\mathbb{P}(R_N=r)$."
   ]
  },
  {
   "cell_type": "code",
   "execution_count": 15,
   "metadata": {},
   "outputs": [
    {
     "data": {
      "application/vnd.jupyter.widget-view+json": {
       "model_id": "446f72ba99424c308b566d3c3111c85d",
       "version_major": 2,
       "version_minor": 0
      },
      "text/plain": [
       "interactive(children=(IntSlider(value=25, description='N', max=50, min=1), Output()), _dom_classes=('widget-in…"
      ]
     },
     "metadata": {},
     "output_type": "display_data"
    },
    {
     "data": {
      "text/plain": [
       "<function __main__.HistogrammeDesProbabilites(N)>"
      ]
     },
     "execution_count": 15,
     "metadata": {},
     "output_type": "execute_result"
    }
   ],
   "source": [
    "DistributionWalmart = [0.071 , 0.087 , 0.087 , 0.024 , 0.071 , 0.055 , 0.047 , 0.346 , 0.047 , 0.165]\n",
    "#Test de triche \n",
    "DistributionTriche = [0 , 0 , 0 , 0.1 , 0.1 , 0 , 0 , 0 , 0 , 0.8]\n",
    "\n",
    "def HistogrammeDesProbabilites(N):\n",
    "    PuissanceMatrice = np.linalg.matrix_power(MatriceQ(DistributionTriche), N)\n",
    "    plt.axis([0, 10, 0, 0.3])\n",
    "    plt.plot([PuissanceMatrice[0, k] for k in range(10)], '-o')\n",
    "    plt.title(f'Valeurs qui achetent chacun N = {N} produits')\n",
    "    plt.show()\n",
    "    \n",
    "interact(HistogrammeDesProbabilites, N=(1, 50, 1))  # On lance la fonction avec un \"widget\" pour choisir N"
   ]
  },
  {
   "cell_type": "markdown",
   "metadata": {},
   "source": [
    "1. Ce calcul confirme que pour la distribution `DistributionWalmart`, dès $N=5$, la distribution de $R_N$ est quasiment uniforme.\n",
    "2. Pour la distribution `DistributionTriche`, la convergence est beaucoup plus lente. Cependant, pour $N=50$ la loi de $R_N$ est proche de l'uniforme."
   ]
  }
 ],
 "metadata": {
  "kernelspec": {
   "display_name": "Python 3",
   "language": "python",
   "name": "python3"
  },
  "language_info": {
   "codemirror_mode": {
    "name": "ipython",
    "version": 3
   },
   "file_extension": ".py",
   "mimetype": "text/x-python",
   "name": "python",
   "nbconvert_exporter": "python",
   "pygments_lexer": "ipython3",
   "version": "3.7.5"
  }
 },
 "nbformat": 4,
 "nbformat_minor": 2
}
