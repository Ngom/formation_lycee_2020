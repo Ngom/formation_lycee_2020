{
 "cells": [
  {
   "cell_type": "markdown",
   "metadata": {},
   "source": [
    "<center>Rencontre Polytechnique - Enseignants du secondaire</center>\n",
    "<center>Loïc Gouarin <a href=\"mailto:loic.gouarin@polytechnique.edu\">(écrire)</a></center>\n",
    "\n",
    "# Maths expérimentales : calcul d'aires\n",
    "\n",
    "Cette session se place dans le contexte suivant :\n",
    "* Terminale Voie Générale (mathématiques complémentaires)\n",
    " - Calcul d'aires\n",
    "     * Approximation de l’aire sous la courbe de la fonction exponentielle sur $[0,1]$ par la méthode des rectangles.\n",
    "     * Approximation de $\\pi$ et aire d’un disque.\n"
   ]
  },
  {
   "cell_type": "markdown",
   "metadata": {},
   "source": [
    "Nous allons dans un premier temps nous intéresser au calcul approché de l'intégrale suivante\n",
    "\n",
    "$$\n",
    "\\int_0^1 e^{-20(x-0.5)^2} dx\n",
    "$$\n",
    "\n",
    "Nous pouvons utiliser SymPy pour avoir l'expresion exacte"
   ]
  },
  {
   "cell_type": "code",
   "execution_count": 1,
   "metadata": {},
   "outputs": [],
   "source": [
    "import sympy as sp\n",
    "x = sp.symbols('x')\n",
    "a, b = 0, 1\n",
    "expr = sp.exp(-20*(x-.5)**2)"
   ]
  },
  {
   "cell_type": "code",
   "execution_count": 2,
   "metadata": {},
   "outputs": [
    {
     "data": {
      "text/latex": [
       "$\\displaystyle \\frac{\\sqrt{5} \\sqrt{\\pi} \\operatorname{erf}{\\left(1.0 \\sqrt{5} \\right)}}{10}$"
      ],
      "text/plain": [
       "sqrt(5)*sqrt(pi)*erf(1.0*sqrt(5))/10"
      ]
     },
     "execution_count": 2,
     "metadata": {},
     "output_type": "execute_result"
    }
   ],
   "source": [
    " sp.integrate(expr, (x, a, b))"
   ]
  },
  {
   "cell_type": "markdown",
   "metadata": {},
   "source": [
    "Une valeur numérique approchée est"
   ]
  },
  {
   "cell_type": "code",
   "execution_count": 3,
   "metadata": {},
   "outputs": [
    {
     "data": {
      "text/latex": [
       "$\\displaystyle 0.395712309610514$"
      ],
      "text/plain": [
       "0.395712309610514"
      ]
     },
     "execution_count": 3,
     "metadata": {},
     "output_type": "execute_result"
    }
   ],
   "source": [
    " sp.integrate(expr, (x, a, b)).evalf()"
   ]
  },
  {
   "cell_type": "markdown",
   "metadata": {},
   "source": [
    "Nous pouvons représenter la fonction à l'aide de matplotlib."
   ]
  },
  {
   "cell_type": "code",
   "execution_count": 4,
   "metadata": {},
   "outputs": [
    {
     "data": {
      "image/png": "[encoded data removed]",
      "text/plain": [
       "<Figure size 720x720 with 1 Axes>"
      ]
     },
     "metadata": {
      "needs_background": "light"
     },
     "output_type": "display_data"
    }
   ],
   "source": [
    "import numpy as np\n",
    "import matplotlib.pyplot as plt\n",
    "\n",
    "f = sp.lambdify('x', expr)\n",
    "x = np.linspace(a, b, 1000)\n",
    "fig = plt.figure(figsize=(10,10))\n",
    "ax = fig.add_subplot(111)\n",
    "ax.plot(x, f(x), color='red')\n",
    "ax.fill_between(x, f(x), 0, alpha=.2)\n",
    "plt.show()"
   ]
  },
  {
   "cell_type": "markdown",
   "metadata": {},
   "source": [
    "La valeur de l'intégrale est l'aire qui est représentée en bleu clair sur la figure. Pour calculer cette aire de manière approchée, nous allons utiliser la méthode des rectangles. L'idée est de décomposer l'intervalle en plusieurs sous intervalles et de calculer la somme des aires des rectangles en interpolant la fonction à intégrer par une constante.\n",
    "\n",
    "Ainsi on a\n",
    "\n",
    "$$\n",
    "\\int_a^b f(x)dx \\approx \\sum_{i=1}^n (x_{i+1} - x_{i})f(\\xi),\n",
    "$$\n",
    "\n",
    "avec $x_1=a$ et $x_{n+1}=b$. $\\xi$ peut prendre différentes valeurs $x_i$, $x_{i+1}$ ou encore $\\frac{x_{i+1} + x_i}{2}$.\n",
    "\n",
    "Cette algorithme peut s'écrire en Pythonde la manière suivante"
   ]
  },
  {
   "cell_type": "code",
   "execution_count": 5,
   "metadata": {},
   "outputs": [],
   "source": [
    "def rectangle(f, a, b, n, case=1):\n",
    "    x = np.linspace(a, b, n+1)\n",
    "    if case == 1:\n",
    "        return np.sum(f(x[:-1])*(x[1:] - x[:-1]))\n",
    "    elif case == 2:\n",
    "        return np.sum(f(x[1:])*(x[1:] - x[:-1]))\n",
    "    elif case == 3:\n",
    "        return np.sum(.5*(f(x[1:]) + f(x[:-1]))*(x[1:] - x[:-1]))"
   ]
  },
  {
   "cell_type": "markdown",
   "metadata": {},
   "source": [
    "Regardons à présent la valeur que l'on obtient si on prend 10 intervalles entre $[0, 1]$"
   ]
  },
  {
   "cell_type": "code",
   "execution_count": 6,
   "metadata": {},
   "outputs": [
    {
     "data": {
      "text/plain": [
       "0.3954979565789398"
      ]
     },
     "execution_count": 6,
     "metadata": {},
     "output_type": "execute_result"
    }
   ],
   "source": [
    "rectangle(f, a, b, 10)"
   ]
  },
  {
   "cell_type": "markdown",
   "metadata": {},
   "source": [
    "Regardons visuellement ce qui se passe."
   ]
  },
  {
   "cell_type": "code",
   "execution_count": 7,
   "metadata": {},
   "outputs": [],
   "source": [
    "from matplotlib.patches import Polygon\n",
    "from matplotlib.collections import PatchCollection\n",
    "import matplotlib.pyplot as plt\n",
    "\n",
    "def coord_rectangle(f, a, b, n, case=1):\n",
    "    x = np.linspace(a, b, n+1)\n",
    "    fx = f(x)\n",
    "\n",
    "    if case == 1:\n",
    "        f_interp = lambda i: fx[i]\n",
    "    elif case == 2:\n",
    "        f_interp = lambda i: fx[i+1]\n",
    "    elif case == 3:\n",
    "        f_interp = lambda i: .5*(fx[i+1] + fx[i])\n",
    "    \n",
    "    polygons = [Polygon([[x[i], 0],\n",
    "                         [x[i], f_interp(i)],\n",
    "                         [x[i+1], f_interp(i)],\n",
    "                         [x[i+1], 0]], True) for i in range(n)]\n",
    "    return polygons"
   ]
  },
  {
   "cell_type": "code",
   "execution_count": 8,
   "metadata": {},
   "outputs": [
    {
     "data": {
      "application/vnd.jupyter.widget-view+json": {
       "model_id": "5f9dcaa569d44957a0f1b4f4488bbf9a",
       "version_major": 2,
       "version_minor": 0
      },
      "text/plain": [
       "VBox(children=(Output(), IntSlider(value=2, description=\"Nombre d'intervalles\", layout=Layout(height='auto', w…"
      ]
     },
     "metadata": {},
     "output_type": "display_data"
    }
   ],
   "source": [
    "from ipywidgets import interactive_output, IntSlider, VBox, Dropdown, Layout\n",
    "\n",
    "def mywidget(n, case):\n",
    "    fig = plt.figure(figsize=(10,10))\n",
    "    ax = fig.add_subplot(111)\n",
    "    x = np.linspace(a, b, 1000)\n",
    "    polygons = coord_rectangle(f, a, b, n, case)\n",
    "    p = PatchCollection(polygons, alpha=0.2, edgecolor='b')\n",
    "    ax.add_collection(p)\n",
    "    ax.plot(x, f(x), 'r', linewidth=1)\n",
    "    ax.autoscale_view()\n",
    "    plt.show()\n",
    "\n",
    "n = IntSlider(value=2,\n",
    "              min=1,\n",
    "              max=40,\n",
    "              description=\"Nombre d'intervalles\",\n",
    "              style={'description_width': 'initial'},\n",
    "              layout=Layout(width='auto', height='auto'))\n",
    "\n",
    "interp_choice = Dropdown(\n",
    "    options=[('Gauche', 1), ('Droite', 2), ('Milieu', 3)],\n",
    "    value=1,\n",
    "    description=\"Point d'interpolation\",\n",
    "    style={'description_width': 'initial'},\n",
    "    layout=Layout(width='auto', height='auto')\n",
    ")\n",
    "\n",
    "interactive_plot = interactive_output(mywidget,\n",
    "                                      {'n': n, 'case': interp_choice})\n",
    "\n",
    "VBox([interactive_plot, n, interp_choice])"
   ]
  },
  {
   "cell_type": "markdown",
   "metadata": {},
   "source": [
    "Nous pouvons à présent essayer de calculer une approximation de $\\pi$ en calculant l'aire d'un quart de disque. L'intégrale à calculer est\n",
    "\n",
    "$$\n",
    "\\int_0^1 \\sqrt{1 - (x-1)^2} dx = \\frac{\\pi}{4}.\n",
    "$$"
   ]
  },
  {
   "cell_type": "code",
   "execution_count": 9,
   "metadata": {},
   "outputs": [
    {
     "data": {
      "image/png": "[encoded data removed]",
      "text/plain": [
       "<Figure size 720x720 with 1 Axes>"
      ]
     },
     "metadata": {
      "needs_background": "light"
     },
     "output_type": "display_data"
    }
   ],
   "source": [
    "import numpy as np\n",
    "import matplotlib.pyplot as plt\n",
    "\n",
    "f = lambda x: np.sqrt(1 - (x-1)**2)\n",
    "x = np.linspace(a, b, 1000)\n",
    "fig = plt.figure(figsize=(10,10))\n",
    "ax = fig.add_subplot(111)\n",
    "ax.plot(x, f(x), color='red')\n",
    "ax.fill_between(x, f(x), 0, alpha=.2)\n",
    "plt.show()"
   ]
  },
  {
   "cell_type": "markdown",
   "metadata": {},
   "source": [
    "Regardons ce que l'on obtient en fonction du point d'interpolation:\n",
    "\n",
    "- à droite"
   ]
  },
  {
   "cell_type": "code",
   "execution_count": 10,
   "metadata": {},
   "outputs": [
    {
     "data": {
      "text/plain": [
       "3.1395554669110277"
      ]
     },
     "execution_count": 10,
     "metadata": {},
     "output_type": "execute_result"
    }
   ],
   "source": [
    "4*rectangle(f, 0, 1, 1000, case=1)"
   ]
  },
  {
   "cell_type": "markdown",
   "metadata": {},
   "source": [
    "- à gauche"
   ]
  },
  {
   "cell_type": "code",
   "execution_count": 11,
   "metadata": {},
   "outputs": [
    {
     "data": {
      "text/plain": [
       "3.1435554669110273"
      ]
     },
     "execution_count": 11,
     "metadata": {},
     "output_type": "execute_result"
    }
   ],
   "source": [
    "4*rectangle(f, 0, 1, 1000, case=2)"
   ]
  },
  {
   "cell_type": "markdown",
   "metadata": {},
   "source": [
    "- au milieu"
   ]
  },
  {
   "cell_type": "code",
   "execution_count": 12,
   "metadata": {},
   "outputs": [
    {
     "data": {
      "text/plain": [
       "3.141555466911028"
      ]
     },
     "execution_count": 12,
     "metadata": {},
     "output_type": "execute_result"
    }
   ],
   "source": [
    "4*rectangle(f, 0, 1, 1000, case=3)"
   ]
  },
  {
   "cell_type": "markdown",
   "metadata": {},
   "source": [
    "En rappelant les premières décimales de $\\pi$"
   ]
  },
  {
   "cell_type": "code",
   "execution_count": 13,
   "metadata": {},
   "outputs": [
    {
     "data": {
      "text/plain": [
       "3.141592653589793"
      ]
     },
     "execution_count": 13,
     "metadata": {},
     "output_type": "execute_result"
    }
   ],
   "source": [
    "np.pi"
   ]
  },
  {
   "cell_type": "markdown",
   "metadata": {},
   "source": [
    "On constate que la méthode des rectangles avec le point d'interpolation milieu est beaucoup plus précise que les deux autres puisque nous avons 4 chiffres significatifs au lieu de deux pour les deux autres."
   ]
  }
 ],
 "metadata": {
  "kernelspec": {
   "display_name": "Python 3",
   "language": "python",
   "name": "python3"
  },
  "language_info": {
   "codemirror_mode": {
    "name": "ipython",
    "version": 3
   },
   "file_extension": ".py",
   "mimetype": "text/x-python",
   "name": "python",
   "nbconvert_exporter": "python",
   "pygments_lexer": "ipython3",
   "version": "3.7.5"
  }
 },
 "nbformat": 4,
 "nbformat_minor": 2
}
