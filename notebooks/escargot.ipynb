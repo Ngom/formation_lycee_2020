{
 "cells": [
  {
   "cell_type": "markdown",
   "metadata": {},
   "source": [
    "\n",
    "\n",
    "<center>Rencontre Polytechnique - Enseignants du secondaire</center>\n",
    "<center>Lucas Gerin <a href=\"mailto:lucas.gerin@polytechnique.edu\">(écrire)</a></center>\n",
    "\n",
    "# Maths expérimentales : Suites définies par $u_{n+1}=f(u_n)$\n",
    "\n",
    "Cette session se place dans le contexte suivant :\n",
    "* Terminale Voie Générale (Spécialité)\n",
    " - Analyse\n",
    "   * Continuité des fonctions d’une variable réelle : \"Pour une fonction continue $f$ d’un intervalle dans lui-même, étudier une suite définie par une relation de récurrence  $u_{n+1}=f(u_n)$.\"\n",
    "   \n",
    "Nous allons traiter expérimentalement un exemple particulier. A la fin nous ferons une petite discussion sur la possibilité de prouver <i>avec l'ordinateur</i> les différentes conjectures."
   ]
  },
  {
   "cell_type": "markdown",
   "metadata": {},
   "source": [
    "## Sommaire\n",
    "\n",
    "- [Tracer des trajectoires](#Trajectoires)\n",
    "- [L'escargot](#Escargot)\n",
    "- [Vers une preuve assistée par ordinateur?](#Preuve)"
   ]
  },
  {
   "cell_type": "code",
   "execution_count": 1,
   "metadata": {},
   "outputs": [],
   "source": [
    "# On charge les librairies Python\n",
    "import matplotlib.pyplot as plt # Pour tracer des graphiques\n",
    "import numpy as np              # Pour faire des maths"
   ]
  },
  {
   "cell_type": "code",
   "execution_count": 2,
   "metadata": {},
   "outputs": [],
   "source": [
    "# Cette commande demande que les sorties graphiques soient dans la fenêtre principale\n",
    "%matplotlib inline   "
   ]
  },
  {
   "cell_type": "code",
   "execution_count": 3,
   "metadata": {},
   "outputs": [],
   "source": [
    "# Librairies spéciales pour pouvoir créer des boutons interactifs (\"widgets\")\n",
    "from ipywidgets import interact"
   ]
  },
  {
   "cell_type": "markdown",
   "metadata": {},
   "source": [
    "<a id=\"Trajectoires\"></a>\n",
    "# Tracer des trajectoires"
   ]
  },
  {
   "cell_type": "markdown",
   "metadata": {},
   "source": [
    "### Un exemple de suite périodique\n",
    "\n",
    "Nous allons travailler avec l'exemple de la suite définie par récurrence de la façon suivante :\n",
    "\n",
    "$$\n",
    "\\begin{cases}\n",
    "u_0&= a\\\\\n",
    "u_{n}&=f(u_{n-1})\\qquad \\text{pour tout }n\\geq 1,\n",
    "\\end{cases}\n",
    "$$\n",
    "où $a\\neq -1,1$ est un paramètre et\n",
    "$$\n",
    "f(x)=\\frac{1+x}{1-x}.\n",
    "$$\n",
    "\n",
    "L'objectif est de déterminer expérimentalement le comportement de la suite $(u_n)$.\n"
   ]
  },
  {
   "cell_type": "markdown",
   "metadata": {},
   "source": [
    "On commence par définir la fonction $f$ en Python :"
   ]
  },
  {
   "cell_type": "code",
   "execution_count": 4,
   "metadata": {},
   "outputs": [],
   "source": [
    "def f(x):\n",
    "    return (1+x)/(1-x)"
   ]
  },
  {
   "cell_type": "markdown",
   "metadata": {},
   "source": [
    "On peut afficher des valeurs :"
   ]
  },
  {
   "cell_type": "code",
   "execution_count": 5,
   "metadata": {},
   "outputs": [
    {
     "name": "stdout",
     "output_type": "stream",
     "text": [
      "-1.6666666666666667\n",
      "1.0\n"
     ]
    }
   ],
   "source": [
    "print(f(4))\n",
    "print(f(0))"
   ]
  },
  {
   "cell_type": "markdown",
   "metadata": {},
   "source": [
    "La fonction suivante `Suite_u()` permet de calculer le $n$-ème terme de la suite, elle prend deux arguments : l'indice `n` et le paramètre `a` qui est le premier terme.\n",
    "\n",
    "Ne pas hésiter à faire varier $a$!"
   ]
  },
  {
   "cell_type": "code",
   "execution_count": 6,
   "metadata": {},
   "outputs": [
    {
     "name": "stdout",
     "output_type": "stream",
     "text": [
      "Pour n = 0, on a u_n = 0.7\n",
      "Pour n = 1, on a u_n = 5.666666666666666\n",
      "Pour n = 2, on a u_n = -1.4285714285714286\n",
      "Pour n = 3, on a u_n = -0.1764705882352941\n",
      "Pour n = 4, on a u_n = 0.7\n",
      "Pour n = 5, on a u_n = 5.666666666666666\n",
      "Pour n = 6, on a u_n = -1.4285714285714286\n",
      "Pour n = 7, on a u_n = -0.1764705882352941\n",
      "Pour n = 8, on a u_n = 0.7\n",
      "Pour n = 9, on a u_n = 5.666666666666666\n",
      "Pour n = 10, on a u_n = -1.4285714285714286\n"
     ]
    }
   ],
   "source": [
    "def Suite_u(n, a):\n",
    "    # paramètres : n=indice, a= 1er terme\n",
    "    if n == 0:  # Si n=0 alors on renvoie a\n",
    "        return a\n",
    "    else:     # Sinon on applique la récurrence\n",
    "        return f(Suite_u(n-1, a))\n",
    "\n",
    "# Test \n",
    "a = 0.7 # valeur du paramètre\n",
    "n_max = 10 # n jusqu'auquel on affiche\n",
    "\n",
    "for n in range(n_max + 1): # On affiche les n_max premières valeurs\n",
    "    print(f'Pour n = {n}, on a u_n = {Suite_u(n, a)}')"
   ]
  },
  {
   "cell_type": "markdown",
   "metadata": {},
   "source": [
    "C'est bien sûr plus visuel de tracer quelques trajectoires de $n\\mapsto u_n$. Voici un code qui permet de le faire, tout en faisant varier le paramètre $a$."
   ]
  },
  {
   "cell_type": "code",
   "execution_count": 8,
   "metadata": {},
   "outputs": [
    {
     "data": {
      "application/vnd.jupyter.widget-view+json": {
       "model_id": "b1441246de6f40ce84ae310dca053d3a",
       "version_major": 2,
       "version_minor": 0
      },
      "text/plain": [
       "interactive(children=(FloatSlider(value=1.4371, description='a', max=3.0, min=0.0071, step=0.11), IntSlider(va…"
      ]
     },
     "metadata": {},
     "output_type": "display_data"
    },
    {
     "data": {
      "text/plain": [
       "<function __main__.TracerTrajectoires(a, n_max=15)>"
      ]
     },
     "execution_count": 8,
     "metadata": {},
     "output_type": "execute_result"
    }
   ],
   "source": [
    "def TracerTrajectoires(a, n_max=15):\n",
    "    N = range(n_max)\n",
    "    u_n = [Suite_u(n, a) for n in N]  # On calcule u(1),...,u(n)\n",
    "    plt.figure(dpi = 100)             # choix de la résolution de l'image\n",
    "    plt.plot(N, u_n, 'o-')            # on trace les valeurs, représentées par des points (c'est le rôle de \"o-\")\n",
    "    plt.xlabel('Indice n'), plt.ylabel('Valeur de u_n')\n",
    "    plt.show()\n",
    "\n",
    "interact(TracerTrajectoires, a=(0.0071, 3, 0.11), n_max=(1, 100))  # On lance la fonction avec un \"widget\" pour choisir a"
   ]
  },
  {
   "cell_type": "markdown",
   "metadata": {},
   "source": [
    "Il semble maintenant assez clair que pour tout $a\\neq -1,1$, la suite $(u_n)$ est périodique de période $4$.<br>\n",
    "<i>(Ou éventuellement de période $2$ pour certaines valeurs de $a$, mais c'est difficile à deviner pour l'instant.)</i>\n",
    "\n",
    "\n",
    "Pour démontrer ceci il \"suffirait\" de montrer que $f\\circ f\\circ f\\circ f(x)=x$ pour tout $x$. En effet on aurait alors pour tout $n\\geq 0$,\n",
    "$$\n",
    "u_{n+4}=f(u_{n+3})=f(f(u_{n+2}))=f(f(f(u_{n+1})))=f(f(f(f(u_n))))=u_n.\n",
    "$$\n",
    "\n",
    "Le code suivant trace $f,f\\circ f,f\\circ f\\circ f$ et $f\\circ f\\circ f\\circ f$. On commence par écrire une fonction récursive `Itereef(x,k)` qui calcule l'itérée $k$ fois de $f$ en $x$."
   ]
  },
  {
   "cell_type": "code",
   "execution_count": 10,
   "metadata": {},
   "outputs": [],
   "source": [
    "def Itereef(x, k):\n",
    "    # renvoie f^k(x) (f itérée k fois)\n",
    "    if k == 1:\n",
    "        return f(x)\n",
    "    else:\n",
    "        return f(Itereef(x, k-1))\n"
   ]
  },
  {
   "cell_type": "code",
   "execution_count": 11,
   "metadata": {},
   "outputs": [
    {
     "data": {
      "image/png": "[encoded data removed]",
      "text/plain": [
       "<Figure size 600x400 with 1 Axes>"
      ]
     },
     "metadata": {
      "needs_background": "light"
     },
     "output_type": "display_data"
    }
   ],
   "source": [
    "xmin, xmax = -5, 5\n",
    "\n",
    "X = np.arange(xmin, xmax, 0.011)\n",
    "f1 = [f(x) for x in X]    \n",
    "f2 = [Itereef(x,2) for x in X]    \n",
    "f3 = [Itereef(x,3) for x in X]    \n",
    "f4 = [Itereef(x,4) for x in X]    \n",
    "\n",
    "plt.figure(dpi=100)\n",
    "plt.axis([-5,5, -5,5])\n",
    "plt.plot(X, f1, label='f(x)')\n",
    "plt.plot(X, f2, label='f(f(x))')\n",
    "plt.plot(X, f3, label='f(f(f(x)))')\n",
    "plt.plot(X, f4, label='f(f(f(f(x))))')\n",
    "\n",
    "plt.legend(loc='best') # mettre la légende au meilleur endroit!\n",
    "plt.show()"
   ]
  },
  {
   "cell_type": "markdown",
   "metadata": {},
   "source": [
    "<div markdown=1 class=\"Rmk\"> On observe en particulier que $f\\circ f$ n'a pas de point de fixe : sur le graphique ci-dessus il n'existe pas de $x$ tel que\n",
    "$$\n",
    "f\\circ f(x)=x.\n",
    "$$\n",
    "On en déduit ainsi qu'il n'existe pas de $a$ tel que $(u_n)$ soit de période $2$.\n",
    "\n"
   ]
  },
  {
   "cell_type": "markdown",
   "metadata": {},
   "source": [
    "<a id='Escargot'></a>\n",
    "# Tracer l'escargot"
   ]
  },
  {
   "cell_type": "code",
   "execution_count": 12,
   "metadata": {},
   "outputs": [
    {
     "data": {
      "application/vnd.jupyter.widget-view+json": {
       "model_id": "a7dd873891e94ca5b7003ace7b586464",
       "version_major": 2,
       "version_minor": 0
      },
      "text/plain": [
       "interactive(children=(FloatSlider(value=0.85, description='a', max=1.6, min=0.1, step=0.05), IntSlider(value=8…"
      ]
     },
     "metadata": {},
     "output_type": "display_data"
    },
    {
     "data": {
      "text/plain": [
       "<function __main__.snail(a, n)>"
      ]
     },
     "execution_count": 12,
     "metadata": {},
     "output_type": "execute_result"
    },
    {
     "data": {
      "image/png": "[encoded data removed]",
      "text/plain": [
       "<Figure size 600x400 with 1 Axes>"
      ]
     },
     "metadata": {
      "needs_background": "light"
     },
     "output_type": "display_data"
    },
    {
     "data": {
      "image/png": "[encoded data removed]",
      "text/plain": [
       "<Figure size 600x400 with 1 Axes>"
      ]
     },
     "metadata": {
      "needs_background": "light"
     },
     "output_type": "display_data"
    }
   ],
   "source": [
    "xmin, xmax = -8, 8\n",
    "ymin, ymax = -8, 8\n",
    "amin, amax = 0.1, 1.6\n",
    "\n",
    "def snail(a, n):\n",
    "    # a = valeur initiale\n",
    "    # xmin, xmax = intervalle des x\n",
    "    # n = nombre d'étapes de l'escargot\n",
    "    u = a\n",
    "    X = np.arange(xmin, xmax, 0.01)\n",
    "    plt.figure(dpi=100)\n",
    "    plt.axis([xmin, xmax, ymin, ymax])\n",
    "    plt.plot(X, X, xmin, xmax, color='gray')\n",
    "    plt.plot([u, u], [ymin, f(u)], 'r--')\n",
    "    for i in range(n):\n",
    "        plt.plot([u, u], [u, f(u)], color='red')\n",
    "        plt.plot([u, f(u)], [f(u), f(u)], color='red')\n",
    "        u = f(u)\n",
    "    plt.plot(X, [f(x) for x in X], color='blue')\n",
    "    plt.title('Trajectoire de u_n en partant de a')\n",
    "    plt.show()\n",
    "       \n",
    "interact(snail, a=(amin, amax, 0.05), n=(2, 15))"
   ]
  },
  {
   "cell_type": "markdown",
   "metadata": {},
   "source": [
    "<div markdown=1 class=\"DoIt\"> \n",
    "Modifier la fonction $f$ définie au début et prendre\n",
    "$$\n",
    "f(x)=\\frac{1+0,9\\times x}{1-x}.\n",
    "$$\n",
    "Relancer toutes les cellules, qu'observe-t-on?"
   ]
  },
  {
   "cell_type": "markdown",
   "metadata": {},
   "source": [
    "<a id='Preuve'></a>\n",
    "# Vers une preuve assistée par ordinateur?\n"
   ]
  },
  {
   "cell_type": "markdown",
   "metadata": {},
   "source": [
    "Les différentes représentations de l'évolution de $(u_n)$ que nous venons de voir ne laissent aucun doute sur le fait que la suite est bien périodique. Il ne s'agit pas d'une preuve bien sûr, mais on peut demander à Python de le faire pour nous, en utilisant le <i>calcul formel</i>.\n",
    "\n",
    "En effet Python dispose d'une boîte à outils pour le calcul formel : `SymPy` (pour **Sym**bolic **Py**thon). Il faut d'abord importer `SymPy` :"
   ]
  },
  {
   "cell_type": "code",
   "execution_count": 13,
   "metadata": {},
   "outputs": [],
   "source": [
    "import sympy"
   ]
  },
  {
   "cell_type": "markdown",
   "metadata": {},
   "source": [
    "On peut ensuite introduire des variables et expressions autour de ces variables :"
   ]
  },
  {
   "cell_type": "code",
   "execution_count": 14,
   "metadata": {},
   "outputs": [
    {
     "name": "stdout",
     "output_type": "stream",
     "text": [
      "(x**2 - 1)/(x + 1)\n"
     ]
    }
   ],
   "source": [
    "sympy.var('x')  # déclare la variable x\n",
    "ExempleExpression = (x**2-1)/(x+1)\n",
    "print(ExempleExpression)"
   ]
  },
  {
   "cell_type": "markdown",
   "metadata": {},
   "source": [
    "On peut ensuite simplifier ces expressions avec la fonction `sympy.simplify`"
   ]
  },
  {
   "cell_type": "code",
   "execution_count": 15,
   "metadata": {},
   "outputs": [
    {
     "name": "stdout",
     "output_type": "stream",
     "text": [
      "x - 1\n"
     ]
    }
   ],
   "source": [
    "ExempleSimplifie = sympy.simplify(ExempleExpression)\n",
    "print(ExempleSimplifie)"
   ]
  },
  {
   "cell_type": "markdown",
   "metadata": {},
   "source": [
    "Pour notre exemple nous allons démontrer que $(u_n)$ est périodique en montrant que pour tout $x\\neq -1,1$,\n",
    "$$\n",
    "f\\circ f\\circ f\\circ f(x)=x\n",
    "$$"
   ]
  },
  {
   "cell_type": "code",
   "execution_count": 17,
   "metadata": {},
   "outputs": [
    {
     "name": "stdout",
     "output_type": "stream",
     "text": [
      " f iteree deux fois = -1/x\n",
      " f iteree trois fois = (x - 1)/(x + 1)\n",
      " f iteree quatre fois = x\n"
     ]
    }
   ],
   "source": [
    "Expression_f = f(x)\n",
    "Expression_f2 = sympy.simplify(f(Expression_f))\n",
    "print(f' f iteree deux fois = {Expression_f2}')\n",
    "Expression_f3 = sympy.simplify(f(Expression_f2))\n",
    "print(f' f iteree trois fois = {Expression_f3}')\n",
    "Expression_f4 = sympy.simplify(f(Expression_f3))\n",
    "print(f' f iteree quatre fois = {Expression_f4}')"
   ]
  },
  {
   "cell_type": "markdown",
   "metadata": {},
   "source": [
    "Si on fait confiance à `SymPy`, la preuve est donc faite!"
   ]
  },
  {
   "cell_type": "markdown",
   "metadata": {},
   "source": [
    "<div markdown=1 class=\"Rmk\"> On avait également conjecturé qu'il n'existe aucun $a$ tel que $(u_n)$ est de période $2$. Nous pouvons également le démontrer en utilisant le calcul fait par `SymPy` car on obtient $f\\circ f(x)=-1/x$, qui n'a pas de point fixe."
   ]
  },
  {
   "cell_type": "code",
   "execution_count": null,
   "metadata": {},
   "outputs": [],
   "source": []
  },
  {
   "cell_type": "code",
   "execution_count": null,
   "metadata": {},
   "outputs": [],
   "source": []
  }
 ],
 "metadata": {
  "kernelspec": {
   "display_name": "Python 3",
   "language": "python",
   "name": "python3"
  },
  "language_info": {
   "codemirror_mode": {
    "name": "ipython",
    "version": 3
   },
   "file_extension": ".py",
   "mimetype": "text/x-python",
   "name": "python",
   "nbconvert_exporter": "python",
   "pygments_lexer": "ipython3",
   "version": "3.7.5"
  }
 },
 "nbformat": 4,
 "nbformat_minor": 2
}
